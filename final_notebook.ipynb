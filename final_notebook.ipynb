{
  "nbformat": 4,
  "nbformat_minor": 0,
  "metadata": {
    "colab": {
      "provenance": [],
      "collapsed_sections": [
        "LvHEzcuS5si7",
        "jkrzud2D5yQD",
        "3TNKi9Vh7qTP",
        "WuUk6wq08NAg",
        "nEJCWrF1Hgb8",
        "USqwzlI35o8B",
        "J4b9cBQC54aj"
      ]
    },
    "kernelspec": {
      "name": "python3",
      "display_name": "Python 3"
    },
    "language_info": {
      "name": "python"
    }
  },
  "cells": [
    {
      "cell_type": "markdown",
      "source": [
        "## 1. 코드 실행 환경"
      ],
      "metadata": {
        "id": "TBpA6erl1NHJ"
      }
    },
    {
      "cell_type": "code",
      "execution_count": 1,
      "metadata": {
        "colab": {
          "base_uri": "https://localhost:8080/",
          "height": 35
        },
        "id": "wHvTQ65IwIjj",
        "outputId": "048092a3-f84e-405a-d925-9f5ba3c346c8"
      },
      "outputs": [
        {
          "output_type": "execute_result",
          "data": {
            "text/plain": [
              "'Linux-5.10.133+-x86_64-with-Ubuntu-18.04-bionic'"
            ],
            "application/vnd.google.colaboratory.intrinsic+json": {
              "type": "string"
            }
          },
          "metadata": {},
          "execution_count": 1
        }
      ],
      "source": [
        "import platform\n",
        "platform.platform()"
      ]
    },
    {
      "cell_type": "code",
      "source": [
        "!cat /etc/issue.net"
      ],
      "metadata": {
        "colab": {
          "base_uri": "https://localhost:8080/"
        },
        "id": "erJq8bZkx9UZ",
        "outputId": "d4dfbf76-8e6f-4730-8364-26a811ca0ce7"
      },
      "execution_count": 2,
      "outputs": [
        {
          "output_type": "stream",
          "name": "stdout",
          "text": [
            "Ubuntu 18.04.6 LTS\n"
          ]
        }
      ]
    },
    {
      "cell_type": "code",
      "source": [
        "!python --version"
      ],
      "metadata": {
        "colab": {
          "base_uri": "https://localhost:8080/"
        },
        "id": "HCLfra3byDXF",
        "outputId": "b8dea999-186e-4f9a-c7ac-3767b8e5a8e1"
      },
      "execution_count": 3,
      "outputs": [
        {
          "output_type": "stream",
          "name": "stdout",
          "text": [
            "Python 3.7.15\n"
          ]
        }
      ]
    },
    {
      "cell_type": "markdown",
      "source": [
        "### 1.1 데이터 입출력 경로 지정\n",
        "\n",
        "구글 코랩 사용시 구글 드라이브 연결\n",
        "\n",
        "로컬 환경 사용시 로컬 환경 경로 지정"
      ],
      "metadata": {
        "id": "5QxmHkGQyq5K"
      }
    },
    {
      "cell_type": "code",
      "source": [
        "#구글 드라이브 연결\n",
        "from google.colab import drive \n",
        "drive.mount('/content/drive') \n",
        "\n",
        "#코랩 환경 결로 설정\n",
        "DATA_PATH = \"/content/drive/MyDrive/DACON/제주도 도로 교통량 예측 AI 경진대회/Final Version/\""
      ],
      "metadata": {
        "colab": {
          "base_uri": "https://localhost:8080/"
        },
        "id": "KtNs-kINyG9Q",
        "outputId": "b0f77100-23fa-483f-90d0-975019338e10"
      },
      "execution_count": 4,
      "outputs": [
        {
          "output_type": "stream",
          "name": "stdout",
          "text": [
            "Mounted at /content/drive\n"
          ]
        }
      ]
    },
    {
      "cell_type": "markdown",
      "source": [
        "### 1.2 필요 라이브러리 설치"
      ],
      "metadata": {
        "id": "tSxJXsII0Kxw"
      }
    },
    {
      "cell_type": "code",
      "source": [
        "#catboost 설치\n",
        "!pip install catboost"
      ],
      "metadata": {
        "colab": {
          "base_uri": "https://localhost:8080/"
        },
        "id": "CcIncw9t0JGJ",
        "outputId": "fcd438ad-df04-4008-a6b9-ed8617c3a863"
      },
      "execution_count": 5,
      "outputs": [
        {
          "output_type": "stream",
          "name": "stdout",
          "text": [
            "Looking in indexes: https://pypi.org/simple, https://us-python.pkg.dev/colab-wheels/public/simple/\n",
            "Collecting catboost\n",
            "  Downloading catboost-1.1.1-cp37-none-manylinux1_x86_64.whl (76.6 MB)\n",
            "\u001b[K     |████████████████████████████████| 76.6 MB 1.2 MB/s \n",
            "\u001b[?25hRequirement already satisfied: graphviz in /usr/local/lib/python3.7/dist-packages (from catboost) (0.10.1)\n",
            "Requirement already satisfied: matplotlib in /usr/local/lib/python3.7/dist-packages (from catboost) (3.2.2)\n",
            "Requirement already satisfied: scipy in /usr/local/lib/python3.7/dist-packages (from catboost) (1.7.3)\n",
            "Requirement already satisfied: six in /usr/local/lib/python3.7/dist-packages (from catboost) (1.15.0)\n",
            "Requirement already satisfied: pandas>=0.24.0 in /usr/local/lib/python3.7/dist-packages (from catboost) (1.3.5)\n",
            "Requirement already satisfied: numpy>=1.16.0 in /usr/local/lib/python3.7/dist-packages (from catboost) (1.21.6)\n",
            "Requirement already satisfied: plotly in /usr/local/lib/python3.7/dist-packages (from catboost) (5.5.0)\n",
            "Requirement already satisfied: python-dateutil>=2.7.3 in /usr/local/lib/python3.7/dist-packages (from pandas>=0.24.0->catboost) (2.8.2)\n",
            "Requirement already satisfied: pytz>=2017.3 in /usr/local/lib/python3.7/dist-packages (from pandas>=0.24.0->catboost) (2022.6)\n",
            "Requirement already satisfied: kiwisolver>=1.0.1 in /usr/local/lib/python3.7/dist-packages (from matplotlib->catboost) (1.4.4)\n",
            "Requirement already satisfied: pyparsing!=2.0.4,!=2.1.2,!=2.1.6,>=2.0.1 in /usr/local/lib/python3.7/dist-packages (from matplotlib->catboost) (3.0.9)\n",
            "Requirement already satisfied: cycler>=0.10 in /usr/local/lib/python3.7/dist-packages (from matplotlib->catboost) (0.11.0)\n",
            "Requirement already satisfied: typing-extensions in /usr/local/lib/python3.7/dist-packages (from kiwisolver>=1.0.1->matplotlib->catboost) (4.1.1)\n",
            "Requirement already satisfied: tenacity>=6.2.0 in /usr/local/lib/python3.7/dist-packages (from plotly->catboost) (8.1.0)\n",
            "Installing collected packages: catboost\n",
            "Successfully installed catboost-1.1.1\n"
          ]
        }
      ]
    },
    {
      "cell_type": "markdown",
      "source": [
        "### 1.3 라이브러리 로드"
      ],
      "metadata": {
        "id": "ixTRNoBv0eeR"
      }
    },
    {
      "cell_type": "code",
      "source": [
        "import pandas as pd\n",
        "import numpy as np\n",
        "import matplotlib.pyplot as plt\n",
        "import seaborn as sns\n",
        "import gc\n",
        "import copy\n",
        "\n",
        "from sklearn.ensemble import HistGradientBoostingRegressor\n",
        "import lightgbm as lgb\n",
        "import catboost as cb\n",
        "\n",
        "import warnings\n",
        "warnings.filterwarnings(\"ignore\")"
      ],
      "metadata": {
        "id": "Zzap9ZHm0eEB"
      },
      "execution_count": 6,
      "outputs": []
    },
    {
      "cell_type": "markdown",
      "source": [
        "## 2. 데이터 전처리"
      ],
      "metadata": {
        "id": "494Uf-eM1aL5"
      }
    },
    {
      "cell_type": "code",
      "source": [
        "# parquet 변환\n",
        "def csv_to_parquet(csv_path, save_name):\n",
        "  df = pd.read_csv(csv_path)\n",
        "  df.to_parquet(f\"./{save_name}.parquet\")\n",
        "  del df\n",
        "  gc.collect()\n",
        "  print(save_name, \"Done\")\n",
        "\n",
        "csv_to_parquet(DATA_PATH + 'train.csv', 'train')\n",
        "csv_to_parquet(DATA_PATH + 'test.csv', 'test')"
      ],
      "metadata": {
        "colab": {
          "base_uri": "https://localhost:8080/"
        },
        "id": "14iRHBfj0HsZ",
        "outputId": "50909078-6a02-40c4-c7b2-b29e7746dd73"
      },
      "execution_count": 7,
      "outputs": [
        {
          "output_type": "stream",
          "name": "stdout",
          "text": [
            "train Done\n",
            "test Done\n"
          ]
        }
      ]
    },
    {
      "cell_type": "code",
      "source": [
        "train = pd.read_parquet('./train.parquet')\n",
        "test = pd.read_parquet('./test.parquet')"
      ],
      "metadata": {
        "id": "gkP6vCi00Co-"
      },
      "execution_count": 8,
      "outputs": []
    },
    {
      "cell_type": "markdown",
      "source": [
        "### 2.1 로드 이름 변경"
      ],
      "metadata": {
        "id": "mUOQYH6w28_k"
      }
    },
    {
      "cell_type": "code",
      "source": [
        "def change_road_name(df):\n",
        "  df.loc[(df['start_node_name']=='남수교') | (df['end_node_name']=='남수교'),'road_name']='서성로'\n",
        "  df.loc[(df['start_node_name']=='성읍사거리') | (df['end_node_name']=='성읍사거리'),'road_name']='지방도1136호선' \n",
        "  df.loc[(df['start_node_name']=='난산사거리') | (df['end_node_name']=='난산사거리'),'road_name']='난산로'\n",
        "  df.loc[df['start_node_name']=='교보생명','road_name']='고성오조로'\n",
        "  df.loc[(df['start_node_name']=='성산포식당') | (df['end_node_name']=='성산포식당'),'road_name']='일출로' \n",
        "  df.loc[(df['start_node_name']=='수협') | (df['end_node_name']=='수협'),'road_name']='동류암로'\n",
        "  df.loc[(df['start_node_name']=='주차장') | (df['end_node_name']=='주차장'),'road_name']='김녕로'\n",
        "  df.loc[(df['start_node_name']=='해안교') | (df['end_node_name']=='해안교'),'road_name']='애조로'\n",
        "  df.loc[(df['start_node_name']=='수간교차로') | (df['end_node_name']=='수간교차로'),'road_name']='애조로'\n",
        "  df.loc[(df['start_node_name']=='상귀교차로') | (df['end_node_name']=='상귀교차로'),'road_name']='애조로'\n",
        "  df.loc[(df['start_node_name']=='광삼교') | (df['end_node_name']=='광삼교'),'road_name']='애조로'\n",
        "  df.loc[(df['start_node_name']=='일호유리') & (df['end_node_name']=='하귀입구'),'road_name']='하광로'\n",
        "  df.loc[(df['start_node_name']=='하귀입구') & (df['end_node_name']=='일호유리'),'road_name']='하광로'\n",
        "  df.loc[(df['start_node_name']=='감귤선과장') | (df['end_node_name']=='감귤선과장'),'road_name']='천덕로'\n",
        "  df.loc[(df['start_node_name']=='삼다식품') | (df['end_node_name']=='삼다식품'),'road_name']='천덕로'\n",
        "  df.loc[(df['start_node_name']=='나동') | (df['end_node_name']=='나동'),'road_name']='한림상로'\n",
        "  df.loc[(df['start_node_name']=='월계교') | (df['end_node_name']=='월계교'),'road_name']='한림상로'\n",
        "  df.loc[(df['start_node_name']=='농협주유소') & (df['end_node_name']=='하나로마트'),'road_name']='한림상로'\n",
        "  df.loc[(df['start_node_name']=='하나로마트') & (df['end_node_name']=='농협주유소'),'road_name']='한림상로'\n",
        "  df.loc[(df['start_node_name']=='창성세차장') | (df['end_node_name']=='창성세차장'),'road_name']='한림서길'\n",
        "  df.loc[(df['start_node_name']=='수원씽크공장') | (df['end_node_name']=='수원씽크공장'),'road_name']='한수풀로'\n",
        "  df.loc[(df['start_node_name']=='금덕해운') | (df['end_node_name']=='금덕해운'),'road_name']='한수풀로'\n",
        "  df.loc[(df['start_node_name']=='원일공사') | (df['end_node_name']=='원일공사'),'road_name']='한수풀로'\n",
        "  df.loc[(df['start_node_name']=='한림1리복지회관') | (df['end_node_name']=='한림1리복지회관'),'road_name']='한림해안로'\n",
        "  df.loc[(df['start_node_name']=='한수풀횟집') | (df['end_node_name']=='한수풀횟집'),'road_name']='한림해안로'\n",
        "  df.loc[(df['start_node_name']=='수협중앙회') | (df['end_node_name']=='수협중앙회'),'road_name']='한림해안로'\n",
        "  df.loc[(df['start_node_name']=='한림어촌계') & (df['end_node_name']=='옹포사거리'),'road_name']='한림로'\n",
        "  df.loc[(df['start_node_name']=='옹포사거리') & (df['end_node_name']=='한림어촌계'),'road_name']='한림로'\n",
        "  df.loc[(df['start_node_name']=='고림동4거리') | (df['end_node_name']=='고림동4거리'),'road_name']='명월로'\n",
        "  df.loc[(df['start_node_name']=='가는질') | (df['end_node_name']=='가는질'),'road_name']='일반국도16호선'    \n",
        "  df.loc[(df['start_node_name']=='광평교차로') | (df['end_node_name']=='광평교차로'),'road_name']='신록남로'\n",
        "  df.loc[(df['start_node_name']=='예래입구') | (df['end_node_name']=='예래입구'),'road_name']='천제연로'\n",
        "  df.loc[(df['start_node_name']=='산신주유소') | (df['end_node_name']=='산신주유소'),'road_name']='천제연로'\n",
        "  df.loc[(df['start_node_name']=='천제이교') | (df['end_node_name']=='천제이교'),'road_name']='관광단지1로' \n",
        "  df.loc[(df['start_node_name']=='중산간도로삼거리') | (df['end_node_name']=='중산간도로삼거리'),'road_name']='신서귀로'\n",
        "  df.loc[(df['start_node_name']=='서울이용원') & (df['end_node_name']=='남양리조트'),'road_name']='태평로'\n",
        "  df.loc[(df['start_node_name']=='남양리조트') & (df['end_node_name']=='서울이용원'),'road_name']='태평로'\n",
        "  df.loc[(df['start_node_name']=='서울이용원') & (df['end_node_name']=='뉴본아파트'),'road_name']='태평로'\n",
        "  df.loc[(df['start_node_name']=='뉴본아파트') & (df['end_node_name']=='서울이용원'),'road_name']='태평로'\n",
        "  df.loc[(df['start_node_name']=='정방수퍼') & (df['end_node_name']=='서울이용원'),'road_name']='정방로'\n",
        "  df.loc[(df['start_node_name']=='서울이용원') & (df['end_node_name']=='정방수퍼'),'road_name']='정방로'\n",
        "  df.loc[(df['start_node_name']=='오렌지농원') | (df['end_node_name']=='오렌지농원'),'road_name']='일반국도11호선'\n",
        "  df.loc[(df['start_node_name']=='송목교') | (df['end_node_name']=='송목교'),'road_name']='서성로' \n",
        "  df.loc[(df['start_node_name']=='한남교차로') | (df['end_node_name']=='한남교차로'),'road_name']='서성로' \n",
        "  df.loc[(df['start_node_name']=='서중2교') & (df['end_node_name']=='서중2교'),'road_name']='서성로' \n",
        "  df.loc[(df['start_node_name']=='신하교') & (df['end_node_name']=='신하교'),'road_name']='서성로' \n",
        "  df.loc[(df['start_node_name']=='상위미') | (df['end_node_name']=='상위미'),'road_name']='위미항구로'\n",
        "  df.loc[(df['start_node_name']=='진은교차로') | (df['end_node_name']=='진은교차로'),'road_name']='일주동로' \n",
        "  df.loc[(df['start_node_name']=='제2태흥교') | (df['end_node_name']=='제2태흥교'),'road_name']='일주동로' \n",
        "  df.loc[(df['start_node_name']=='금성동교차로') | (df['end_node_name']=='금성동교차로'),'road_name']='일주동로' \n",
        "  df.loc[(df['start_node_name']=='하나로교') & (df['end_node_name']=='하나로교'),'road_name']='일주동로'\n",
        "  df.loc[(df['start_node_name']=='우사') | (df['end_node_name']=='우사'),'road_name']='동광로'\n",
        "\n",
        "  return df"
      ],
      "metadata": {
        "id": "JWskuu1N4Aas"
      },
      "execution_count": 9,
      "outputs": []
    },
    {
      "cell_type": "code",
      "source": [
        "train = change_road_name(train)\n",
        "test = change_road_name(test)"
      ],
      "metadata": {
        "id": "ikS2K0ki29UC"
      },
      "execution_count": 10,
      "outputs": []
    },
    {
      "cell_type": "markdown",
      "source": [
        "### 2.2 파생변수 생성"
      ],
      "metadata": {
        "id": "q11Nzar-2c9A"
      }
    },
    {
      "cell_type": "markdown",
      "source": [
        "#### 2.2.1 month 변수 생성"
      ],
      "metadata": {
        "id": "LvHEzcuS5si7"
      }
    },
    {
      "cell_type": "code",
      "source": [
        "train[\"base_date\"] = pd.to_datetime(train[\"base_date\"],format='%Y%m%d')\n",
        "test[\"base_date\"] = pd.to_datetime(test[\"base_date\"],format='%Y%m%d')\n",
        "\n",
        "train['month']= train['base_date'].dt.month\n",
        "test['month']= test['base_date'].dt.month"
      ],
      "metadata": {
        "id": "eXFPRCWH2Rll"
      },
      "execution_count": 11,
      "outputs": []
    },
    {
      "cell_type": "markdown",
      "source": [
        "#### 2.2.2 도로별 시간대별 평균 변수 생성"
      ],
      "metadata": {
        "id": "jkrzud2D5yQD"
      }
    },
    {
      "cell_type": "code",
      "source": [
        "train[\"base_hour\"] = [str(x) for x in train[\"base_hour\"]]\n",
        "test[\"base_hour\"] = [str(x) for x in test[\"base_hour\"]]\n",
        "\n",
        "train[\"road_hours\"] =  train['road_name']+train['base_hour']\n",
        "test[\"road_hours\"] =  test['road_name']+test['base_hour']"
      ],
      "metadata": {
        "id": "GSEteCMN5l3s"
      },
      "execution_count": 12,
      "outputs": []
    },
    {
      "cell_type": "code",
      "source": [
        "tmp_train = train[[\"road_hours\", \"target\"]]\n",
        "tmp_train_mean = tmp_train.groupby(\"road_hours\").mean().reset_index()\n",
        "\n",
        "road_hours_list = list(tmp_train_mean[\"road_hours\"])\n",
        "road_hours_targets = list(tmp_train_mean[\"target\"])\n",
        "\n",
        "train_road_hours_targets = []\n",
        "\n",
        "for idx in range(len(train)):\n",
        "  road_hour_index = road_hours_list.index(train.iloc[idx,:][24])\n",
        "  train_road_hours_targets.append(road_hours_targets[road_hour_index])\n",
        "\n",
        "train[\"road_hours_target\"] = train_road_hours_targets\n",
        "\n",
        "test_road_hours_targets = []\n",
        "\n",
        "for idx in range(len(test)):\n",
        "  road_hour_index = road_hours_list.index(test.iloc[idx,:][23])\n",
        "  test_road_hours_targets.append(road_hours_targets[road_hour_index])\n",
        "\n",
        "test[\"road_hours_target\"] = test_road_hours_targets\n",
        "\n",
        "train[\"base_hour\"] = [int(x) for x in train[\"base_hour\"]]\n",
        "test[\"base_hour\"] = [int(x) for x in test[\"base_hour\"]]"
      ],
      "metadata": {
        "id": "iYd0QD6t597u"
      },
      "execution_count": 13,
      "outputs": []
    },
    {
      "cell_type": "markdown",
      "source": [
        "#### 2.2.3 도로별 요일별 평균 변수 생성"
      ],
      "metadata": {
        "id": "3TNKi9Vh7qTP"
      }
    },
    {
      "cell_type": "code",
      "source": [
        "train[\"day_of_week\"] = [str(x) for x in train[\"day_of_week\"]]\n",
        "test[\"day_of_week\"] = [str(x) for x in test[\"day_of_week\"]]\n",
        "\n",
        "train[\"road_day\"] =  train['road_name']+train['day_of_week']\n",
        "test[\"road_day\"] =  test['road_name']+test['day_of_week']"
      ],
      "metadata": {
        "id": "U3YUHcL96M21"
      },
      "execution_count": 14,
      "outputs": []
    },
    {
      "cell_type": "code",
      "source": [
        "tmp_road_day = train[[\"road_day\", \"target\"]]\n",
        "tmp_road_day_mean = tmp_road_day.groupby(\"road_day\").mean().reset_index()\n",
        "\n",
        "road_day_list = list(tmp_road_day_mean[\"road_day\"])\n",
        "road_day_targets = list(tmp_road_day_mean[\"target\"])\n",
        "\n",
        "train_road_day_means = []\n",
        "\n",
        "for idx in range(len(train)):\n",
        "  road_hour_index = road_day_list.index(train.iloc[idx,:][26])\n",
        "  train_road_day_means.append(road_day_targets[road_hour_index])\n",
        "\n",
        "train[\"road_day_mean\"] = train_road_day_means\n",
        "\n",
        "test_road_day_means = []\n",
        "\n",
        "for idx in range(len(test)):\n",
        "  road_hour_index = road_day_list.index(test.iloc[idx,:][25])\n",
        "  test_road_day_means.append(road_day_targets[road_hour_index])\n",
        "\n",
        "test[\"road_day_mean\"] = test_road_day_means"
      ],
      "metadata": {
        "id": "BnAgao4t7zc7"
      },
      "execution_count": 15,
      "outputs": []
    },
    {
      "cell_type": "markdown",
      "source": [
        "#### 2.2.4 도로,요일, 시간별 평균 변수 생성"
      ],
      "metadata": {
        "id": "WuUk6wq08NAg"
      }
    },
    {
      "cell_type": "code",
      "source": [
        "train[\"base_hour\"] = [str(x) for x in train[\"base_hour\"]]\n",
        "test[\"base_hour\"] = [str(x) for x in test[\"base_hour\"]]\n",
        "\n",
        "train[\"road_day_hour\"] =  train['road_name']+train['day_of_week'] + train['base_hour']\n",
        "test[\"road_day_hour\"] =  test['road_name']+test['day_of_week'] + test['base_hour']"
      ],
      "metadata": {
        "id": "QHcwB_td8yZP"
      },
      "execution_count": 16,
      "outputs": []
    },
    {
      "cell_type": "code",
      "source": [
        "tmp_road_day = train[[\"road_day_hour\", \"target\"]]\n",
        "tmp_road_day_mean = tmp_road_day.groupby(\"road_day_hour\").mean().reset_index()\n",
        "\n",
        "road_day_list = list(tmp_road_day_mean[\"road_day_hour\"])\n",
        "road_day_targets = list(tmp_road_day_mean[\"target\"])\n",
        "\n",
        "train_road_day_means = []\n",
        "\n",
        "for idx in range(len(train)):\n",
        "  road_hour_index = road_day_list.index(train.iloc[idx,:][28])\n",
        "  train_road_day_means.append(road_day_targets[road_hour_index])\n",
        "\n",
        "train[\"road_day_hour_mean\"] = train_road_day_means\n",
        "\n",
        "test_road_day_means = []\n",
        "\n",
        "for idx in range(len(test)):\n",
        "  try:\n",
        "    road_hour_index = road_day_list.index(test.iloc[idx,:][27])\n",
        "  except:\n",
        "    tmo_str = test.iloc[idx,:][27][:-1]\n",
        "    tmp_num = int(test.iloc[idx,:][27][-1])\n",
        "    if tmp_num == 0:\n",
        "      new_num = '23'\n",
        "    else:\n",
        "      new_num = str(tmp_num - 1)\n",
        "    tmp = tmo_str + new_num\n",
        "    road_hour_index = road_day_list.index(tmp)\n",
        "\n",
        "\n",
        "  test_road_day_means.append(road_day_targets[road_hour_index])\n",
        "\n",
        "test[\"road_day_hour_mean\"] = test_road_day_means\n",
        "\n",
        "train[\"base_hour\"] = [int(x) for x in train[\"base_hour\"]]\n",
        "test[\"base_hour\"] = [int(x) for x in test[\"base_hour\"]]"
      ],
      "metadata": {
        "id": "pv5jbHBpAxZK"
      },
      "execution_count": 17,
      "outputs": []
    },
    {
      "cell_type": "code",
      "source": [
        "train.head()"
      ],
      "metadata": {
        "colab": {
          "base_uri": "https://localhost:8080/",
          "height": 404
        },
        "id": "RUNRVz1zCS5h",
        "outputId": "ee0985dd-c8d8-47a4-fa07-a3102ffc810c"
      },
      "execution_count": 18,
      "outputs": [
        {
          "output_type": "execute_result",
          "data": {
            "text/plain": [
              "              id  base_date day_of_week  base_hour  lane_count  road_rating  \\\n",
              "0  TRAIN_0000000 2022-06-23           목         17           1          106   \n",
              "1  TRAIN_0000001 2022-07-28           목         21           2          103   \n",
              "2  TRAIN_0000002 2021-10-10           일          7           2          103   \n",
              "3  TRAIN_0000003 2022-03-11           금         13           2          107   \n",
              "4  TRAIN_0000004 2021-10-05           화          8           2          103   \n",
              "\n",
              "   road_name  multi_linked  connect_code  maximum_speed_limit  ...  \\\n",
              "0  지방도1112호선             0             0                 60.0  ...   \n",
              "1   일반국도11호선             0             0                 60.0  ...   \n",
              "2   일반국도16호선             0             0                 80.0  ...   \n",
              "3        태평로             0             0                 50.0  ...   \n",
              "4   일반국도12호선             0             0                 80.0  ...   \n",
              "\n",
              "   end_longitude  end_turn_restricted  target  month   road_hours  \\\n",
              "0     126.662335                   없음    52.0      6  지방도1112호선17   \n",
              "1     126.526240                   없음    30.0      7   일반국도11호선21   \n",
              "2     126.362147                   없음    61.0     10    일반국도16호선7   \n",
              "3     126.566228                   없음    20.0      3        태평로13   \n",
              "4     126.330152                   없음    38.0     10    일반국도12호선8   \n",
              "\n",
              "   road_hours_target    road_day road_day_mean road_day_hour  \\\n",
              "0          44.945994  지방도1112호선목     47.421487  지방도1112호선목17   \n",
              "1          39.388762   일반국도11호선목     39.904327   일반국도11호선목21   \n",
              "2          44.789037   일반국도16호선일     44.996507    일반국도16호선일7   \n",
              "3          22.146268        태평로금     25.107775        태평로금13   \n",
              "4          42.036260   일반국도12호선화     43.464148    일반국도12호선화8   \n",
              "\n",
              "   road_day_hour_mean  \n",
              "0           44.918919  \n",
              "1           39.335878  \n",
              "2           46.530935  \n",
              "3           21.907925  \n",
              "4           41.254252  \n",
              "\n",
              "[5 rows x 30 columns]"
            ],
            "text/html": [
              "\n",
              "  <div id=\"df-a576d71f-ea2f-4da6-bdbd-92f110cee778\">\n",
              "    <div class=\"colab-df-container\">\n",
              "      <div>\n",
              "<style scoped>\n",
              "    .dataframe tbody tr th:only-of-type {\n",
              "        vertical-align: middle;\n",
              "    }\n",
              "\n",
              "    .dataframe tbody tr th {\n",
              "        vertical-align: top;\n",
              "    }\n",
              "\n",
              "    .dataframe thead th {\n",
              "        text-align: right;\n",
              "    }\n",
              "</style>\n",
              "<table border=\"1\" class=\"dataframe\">\n",
              "  <thead>\n",
              "    <tr style=\"text-align: right;\">\n",
              "      <th></th>\n",
              "      <th>id</th>\n",
              "      <th>base_date</th>\n",
              "      <th>day_of_week</th>\n",
              "      <th>base_hour</th>\n",
              "      <th>lane_count</th>\n",
              "      <th>road_rating</th>\n",
              "      <th>road_name</th>\n",
              "      <th>multi_linked</th>\n",
              "      <th>connect_code</th>\n",
              "      <th>maximum_speed_limit</th>\n",
              "      <th>...</th>\n",
              "      <th>end_longitude</th>\n",
              "      <th>end_turn_restricted</th>\n",
              "      <th>target</th>\n",
              "      <th>month</th>\n",
              "      <th>road_hours</th>\n",
              "      <th>road_hours_target</th>\n",
              "      <th>road_day</th>\n",
              "      <th>road_day_mean</th>\n",
              "      <th>road_day_hour</th>\n",
              "      <th>road_day_hour_mean</th>\n",
              "    </tr>\n",
              "  </thead>\n",
              "  <tbody>\n",
              "    <tr>\n",
              "      <th>0</th>\n",
              "      <td>TRAIN_0000000</td>\n",
              "      <td>2022-06-23</td>\n",
              "      <td>목</td>\n",
              "      <td>17</td>\n",
              "      <td>1</td>\n",
              "      <td>106</td>\n",
              "      <td>지방도1112호선</td>\n",
              "      <td>0</td>\n",
              "      <td>0</td>\n",
              "      <td>60.0</td>\n",
              "      <td>...</td>\n",
              "      <td>126.662335</td>\n",
              "      <td>없음</td>\n",
              "      <td>52.0</td>\n",
              "      <td>6</td>\n",
              "      <td>지방도1112호선17</td>\n",
              "      <td>44.945994</td>\n",
              "      <td>지방도1112호선목</td>\n",
              "      <td>47.421487</td>\n",
              "      <td>지방도1112호선목17</td>\n",
              "      <td>44.918919</td>\n",
              "    </tr>\n",
              "    <tr>\n",
              "      <th>1</th>\n",
              "      <td>TRAIN_0000001</td>\n",
              "      <td>2022-07-28</td>\n",
              "      <td>목</td>\n",
              "      <td>21</td>\n",
              "      <td>2</td>\n",
              "      <td>103</td>\n",
              "      <td>일반국도11호선</td>\n",
              "      <td>0</td>\n",
              "      <td>0</td>\n",
              "      <td>60.0</td>\n",
              "      <td>...</td>\n",
              "      <td>126.526240</td>\n",
              "      <td>없음</td>\n",
              "      <td>30.0</td>\n",
              "      <td>7</td>\n",
              "      <td>일반국도11호선21</td>\n",
              "      <td>39.388762</td>\n",
              "      <td>일반국도11호선목</td>\n",
              "      <td>39.904327</td>\n",
              "      <td>일반국도11호선목21</td>\n",
              "      <td>39.335878</td>\n",
              "    </tr>\n",
              "    <tr>\n",
              "      <th>2</th>\n",
              "      <td>TRAIN_0000002</td>\n",
              "      <td>2021-10-10</td>\n",
              "      <td>일</td>\n",
              "      <td>7</td>\n",
              "      <td>2</td>\n",
              "      <td>103</td>\n",
              "      <td>일반국도16호선</td>\n",
              "      <td>0</td>\n",
              "      <td>0</td>\n",
              "      <td>80.0</td>\n",
              "      <td>...</td>\n",
              "      <td>126.362147</td>\n",
              "      <td>없음</td>\n",
              "      <td>61.0</td>\n",
              "      <td>10</td>\n",
              "      <td>일반국도16호선7</td>\n",
              "      <td>44.789037</td>\n",
              "      <td>일반국도16호선일</td>\n",
              "      <td>44.996507</td>\n",
              "      <td>일반국도16호선일7</td>\n",
              "      <td>46.530935</td>\n",
              "    </tr>\n",
              "    <tr>\n",
              "      <th>3</th>\n",
              "      <td>TRAIN_0000003</td>\n",
              "      <td>2022-03-11</td>\n",
              "      <td>금</td>\n",
              "      <td>13</td>\n",
              "      <td>2</td>\n",
              "      <td>107</td>\n",
              "      <td>태평로</td>\n",
              "      <td>0</td>\n",
              "      <td>0</td>\n",
              "      <td>50.0</td>\n",
              "      <td>...</td>\n",
              "      <td>126.566228</td>\n",
              "      <td>없음</td>\n",
              "      <td>20.0</td>\n",
              "      <td>3</td>\n",
              "      <td>태평로13</td>\n",
              "      <td>22.146268</td>\n",
              "      <td>태평로금</td>\n",
              "      <td>25.107775</td>\n",
              "      <td>태평로금13</td>\n",
              "      <td>21.907925</td>\n",
              "    </tr>\n",
              "    <tr>\n",
              "      <th>4</th>\n",
              "      <td>TRAIN_0000004</td>\n",
              "      <td>2021-10-05</td>\n",
              "      <td>화</td>\n",
              "      <td>8</td>\n",
              "      <td>2</td>\n",
              "      <td>103</td>\n",
              "      <td>일반국도12호선</td>\n",
              "      <td>0</td>\n",
              "      <td>0</td>\n",
              "      <td>80.0</td>\n",
              "      <td>...</td>\n",
              "      <td>126.330152</td>\n",
              "      <td>없음</td>\n",
              "      <td>38.0</td>\n",
              "      <td>10</td>\n",
              "      <td>일반국도12호선8</td>\n",
              "      <td>42.036260</td>\n",
              "      <td>일반국도12호선화</td>\n",
              "      <td>43.464148</td>\n",
              "      <td>일반국도12호선화8</td>\n",
              "      <td>41.254252</td>\n",
              "    </tr>\n",
              "  </tbody>\n",
              "</table>\n",
              "<p>5 rows × 30 columns</p>\n",
              "</div>\n",
              "      <button class=\"colab-df-convert\" onclick=\"convertToInteractive('df-a576d71f-ea2f-4da6-bdbd-92f110cee778')\"\n",
              "              title=\"Convert this dataframe to an interactive table.\"\n",
              "              style=\"display:none;\">\n",
              "        \n",
              "  <svg xmlns=\"http://www.w3.org/2000/svg\" height=\"24px\"viewBox=\"0 0 24 24\"\n",
              "       width=\"24px\">\n",
              "    <path d=\"M0 0h24v24H0V0z\" fill=\"none\"/>\n",
              "    <path d=\"M18.56 5.44l.94 2.06.94-2.06 2.06-.94-2.06-.94-.94-2.06-.94 2.06-2.06.94zm-11 1L8.5 8.5l.94-2.06 2.06-.94-2.06-.94L8.5 2.5l-.94 2.06-2.06.94zm10 10l.94 2.06.94-2.06 2.06-.94-2.06-.94-.94-2.06-.94 2.06-2.06.94z\"/><path d=\"M17.41 7.96l-1.37-1.37c-.4-.4-.92-.59-1.43-.59-.52 0-1.04.2-1.43.59L10.3 9.45l-7.72 7.72c-.78.78-.78 2.05 0 2.83L4 21.41c.39.39.9.59 1.41.59.51 0 1.02-.2 1.41-.59l7.78-7.78 2.81-2.81c.8-.78.8-2.07 0-2.86zM5.41 20L4 18.59l7.72-7.72 1.47 1.35L5.41 20z\"/>\n",
              "  </svg>\n",
              "      </button>\n",
              "      \n",
              "  <style>\n",
              "    .colab-df-container {\n",
              "      display:flex;\n",
              "      flex-wrap:wrap;\n",
              "      gap: 12px;\n",
              "    }\n",
              "\n",
              "    .colab-df-convert {\n",
              "      background-color: #E8F0FE;\n",
              "      border: none;\n",
              "      border-radius: 50%;\n",
              "      cursor: pointer;\n",
              "      display: none;\n",
              "      fill: #1967D2;\n",
              "      height: 32px;\n",
              "      padding: 0 0 0 0;\n",
              "      width: 32px;\n",
              "    }\n",
              "\n",
              "    .colab-df-convert:hover {\n",
              "      background-color: #E2EBFA;\n",
              "      box-shadow: 0px 1px 2px rgba(60, 64, 67, 0.3), 0px 1px 3px 1px rgba(60, 64, 67, 0.15);\n",
              "      fill: #174EA6;\n",
              "    }\n",
              "\n",
              "    [theme=dark] .colab-df-convert {\n",
              "      background-color: #3B4455;\n",
              "      fill: #D2E3FC;\n",
              "    }\n",
              "\n",
              "    [theme=dark] .colab-df-convert:hover {\n",
              "      background-color: #434B5C;\n",
              "      box-shadow: 0px 1px 3px 1px rgba(0, 0, 0, 0.15);\n",
              "      filter: drop-shadow(0px 1px 2px rgba(0, 0, 0, 0.3));\n",
              "      fill: #FFFFFF;\n",
              "    }\n",
              "  </style>\n",
              "\n",
              "      <script>\n",
              "        const buttonEl =\n",
              "          document.querySelector('#df-a576d71f-ea2f-4da6-bdbd-92f110cee778 button.colab-df-convert');\n",
              "        buttonEl.style.display =\n",
              "          google.colab.kernel.accessAllowed ? 'block' : 'none';\n",
              "\n",
              "        async function convertToInteractive(key) {\n",
              "          const element = document.querySelector('#df-a576d71f-ea2f-4da6-bdbd-92f110cee778');\n",
              "          const dataTable =\n",
              "            await google.colab.kernel.invokeFunction('convertToInteractive',\n",
              "                                                     [key], {});\n",
              "          if (!dataTable) return;\n",
              "\n",
              "          const docLinkHtml = 'Like what you see? Visit the ' +\n",
              "            '<a target=\"_blank\" href=https://colab.research.google.com/notebooks/data_table.ipynb>data table notebook</a>'\n",
              "            + ' to learn more about interactive tables.';\n",
              "          element.innerHTML = '';\n",
              "          dataTable['output_type'] = 'display_data';\n",
              "          await google.colab.output.renderOutput(dataTable, element);\n",
              "          const docLink = document.createElement('div');\n",
              "          docLink.innerHTML = docLinkHtml;\n",
              "          element.appendChild(docLink);\n",
              "        }\n",
              "      </script>\n",
              "    </div>\n",
              "  </div>\n",
              "  "
            ]
          },
          "metadata": {},
          "execution_count": 18
        }
      ]
    },
    {
      "cell_type": "code",
      "source": [
        "train.to_csv(DATA_PATH + 'mean_train.csv', index=False)\n",
        "test.to_csv(DATA_PATH + 'mean_test.csv', index=False)"
      ],
      "metadata": {
        "id": "knz0nvW_YKmG"
      },
      "execution_count": 19,
      "outputs": []
    },
    {
      "cell_type": "markdown",
      "source": [
        "#### 2.2.5 도로,시간별 이동평균 파생변수 생성"
      ],
      "metadata": {
        "id": "nEJCWrF1Hgb8"
      }
    },
    {
      "cell_type": "code",
      "source": [
        "tmp_road_day_mean"
      ],
      "metadata": {
        "colab": {
          "base_uri": "https://localhost:8080/",
          "height": 424
        },
        "id": "ujoyuOULNZcO",
        "outputId": "88832a60-6e6d-4127-b1fb-bf39d5d36ec0"
      },
      "execution_count": 20,
      "outputs": [
        {
          "output_type": "execute_result",
          "data": {
            "text/plain": [
              "      road_day_hour     target\n",
              "0             경찰로금0  30.991453\n",
              "1             경찰로금1  32.100446\n",
              "2            경찰로금10  22.527778\n",
              "3            경찰로금11  22.395753\n",
              "4            경찰로금12  22.671968\n",
              "...             ...        ...\n",
              "13372       호서중앙로화5  36.909091\n",
              "13373       호서중앙로화6  32.928571\n",
              "13374       호서중앙로화7  38.000000\n",
              "13375       호서중앙로화8  26.800000\n",
              "13376       호서중앙로화9  29.318182\n",
              "\n",
              "[13377 rows x 2 columns]"
            ],
            "text/html": [
              "\n",
              "  <div id=\"df-77353112-c9b0-46cb-acb9-8f54412ec135\">\n",
              "    <div class=\"colab-df-container\">\n",
              "      <div>\n",
              "<style scoped>\n",
              "    .dataframe tbody tr th:only-of-type {\n",
              "        vertical-align: middle;\n",
              "    }\n",
              "\n",
              "    .dataframe tbody tr th {\n",
              "        vertical-align: top;\n",
              "    }\n",
              "\n",
              "    .dataframe thead th {\n",
              "        text-align: right;\n",
              "    }\n",
              "</style>\n",
              "<table border=\"1\" class=\"dataframe\">\n",
              "  <thead>\n",
              "    <tr style=\"text-align: right;\">\n",
              "      <th></th>\n",
              "      <th>road_day_hour</th>\n",
              "      <th>target</th>\n",
              "    </tr>\n",
              "  </thead>\n",
              "  <tbody>\n",
              "    <tr>\n",
              "      <th>0</th>\n",
              "      <td>경찰로금0</td>\n",
              "      <td>30.991453</td>\n",
              "    </tr>\n",
              "    <tr>\n",
              "      <th>1</th>\n",
              "      <td>경찰로금1</td>\n",
              "      <td>32.100446</td>\n",
              "    </tr>\n",
              "    <tr>\n",
              "      <th>2</th>\n",
              "      <td>경찰로금10</td>\n",
              "      <td>22.527778</td>\n",
              "    </tr>\n",
              "    <tr>\n",
              "      <th>3</th>\n",
              "      <td>경찰로금11</td>\n",
              "      <td>22.395753</td>\n",
              "    </tr>\n",
              "    <tr>\n",
              "      <th>4</th>\n",
              "      <td>경찰로금12</td>\n",
              "      <td>22.671968</td>\n",
              "    </tr>\n",
              "    <tr>\n",
              "      <th>...</th>\n",
              "      <td>...</td>\n",
              "      <td>...</td>\n",
              "    </tr>\n",
              "    <tr>\n",
              "      <th>13372</th>\n",
              "      <td>호서중앙로화5</td>\n",
              "      <td>36.909091</td>\n",
              "    </tr>\n",
              "    <tr>\n",
              "      <th>13373</th>\n",
              "      <td>호서중앙로화6</td>\n",
              "      <td>32.928571</td>\n",
              "    </tr>\n",
              "    <tr>\n",
              "      <th>13374</th>\n",
              "      <td>호서중앙로화7</td>\n",
              "      <td>38.000000</td>\n",
              "    </tr>\n",
              "    <tr>\n",
              "      <th>13375</th>\n",
              "      <td>호서중앙로화8</td>\n",
              "      <td>26.800000</td>\n",
              "    </tr>\n",
              "    <tr>\n",
              "      <th>13376</th>\n",
              "      <td>호서중앙로화9</td>\n",
              "      <td>29.318182</td>\n",
              "    </tr>\n",
              "  </tbody>\n",
              "</table>\n",
              "<p>13377 rows × 2 columns</p>\n",
              "</div>\n",
              "      <button class=\"colab-df-convert\" onclick=\"convertToInteractive('df-77353112-c9b0-46cb-acb9-8f54412ec135')\"\n",
              "              title=\"Convert this dataframe to an interactive table.\"\n",
              "              style=\"display:none;\">\n",
              "        \n",
              "  <svg xmlns=\"http://www.w3.org/2000/svg\" height=\"24px\"viewBox=\"0 0 24 24\"\n",
              "       width=\"24px\">\n",
              "    <path d=\"M0 0h24v24H0V0z\" fill=\"none\"/>\n",
              "    <path d=\"M18.56 5.44l.94 2.06.94-2.06 2.06-.94-2.06-.94-.94-2.06-.94 2.06-2.06.94zm-11 1L8.5 8.5l.94-2.06 2.06-.94-2.06-.94L8.5 2.5l-.94 2.06-2.06.94zm10 10l.94 2.06.94-2.06 2.06-.94-2.06-.94-.94-2.06-.94 2.06-2.06.94z\"/><path d=\"M17.41 7.96l-1.37-1.37c-.4-.4-.92-.59-1.43-.59-.52 0-1.04.2-1.43.59L10.3 9.45l-7.72 7.72c-.78.78-.78 2.05 0 2.83L4 21.41c.39.39.9.59 1.41.59.51 0 1.02-.2 1.41-.59l7.78-7.78 2.81-2.81c.8-.78.8-2.07 0-2.86zM5.41 20L4 18.59l7.72-7.72 1.47 1.35L5.41 20z\"/>\n",
              "  </svg>\n",
              "      </button>\n",
              "      \n",
              "  <style>\n",
              "    .colab-df-container {\n",
              "      display:flex;\n",
              "      flex-wrap:wrap;\n",
              "      gap: 12px;\n",
              "    }\n",
              "\n",
              "    .colab-df-convert {\n",
              "      background-color: #E8F0FE;\n",
              "      border: none;\n",
              "      border-radius: 50%;\n",
              "      cursor: pointer;\n",
              "      display: none;\n",
              "      fill: #1967D2;\n",
              "      height: 32px;\n",
              "      padding: 0 0 0 0;\n",
              "      width: 32px;\n",
              "    }\n",
              "\n",
              "    .colab-df-convert:hover {\n",
              "      background-color: #E2EBFA;\n",
              "      box-shadow: 0px 1px 2px rgba(60, 64, 67, 0.3), 0px 1px 3px 1px rgba(60, 64, 67, 0.15);\n",
              "      fill: #174EA6;\n",
              "    }\n",
              "\n",
              "    [theme=dark] .colab-df-convert {\n",
              "      background-color: #3B4455;\n",
              "      fill: #D2E3FC;\n",
              "    }\n",
              "\n",
              "    [theme=dark] .colab-df-convert:hover {\n",
              "      background-color: #434B5C;\n",
              "      box-shadow: 0px 1px 3px 1px rgba(0, 0, 0, 0.15);\n",
              "      filter: drop-shadow(0px 1px 2px rgba(0, 0, 0, 0.3));\n",
              "      fill: #FFFFFF;\n",
              "    }\n",
              "  </style>\n",
              "\n",
              "      <script>\n",
              "        const buttonEl =\n",
              "          document.querySelector('#df-77353112-c9b0-46cb-acb9-8f54412ec135 button.colab-df-convert');\n",
              "        buttonEl.style.display =\n",
              "          google.colab.kernel.accessAllowed ? 'block' : 'none';\n",
              "\n",
              "        async function convertToInteractive(key) {\n",
              "          const element = document.querySelector('#df-77353112-c9b0-46cb-acb9-8f54412ec135');\n",
              "          const dataTable =\n",
              "            await google.colab.kernel.invokeFunction('convertToInteractive',\n",
              "                                                     [key], {});\n",
              "          if (!dataTable) return;\n",
              "\n",
              "          const docLinkHtml = 'Like what you see? Visit the ' +\n",
              "            '<a target=\"_blank\" href=https://colab.research.google.com/notebooks/data_table.ipynb>data table notebook</a>'\n",
              "            + ' to learn more about interactive tables.';\n",
              "          element.innerHTML = '';\n",
              "          dataTable['output_type'] = 'display_data';\n",
              "          await google.colab.output.renderOutput(dataTable, element);\n",
              "          const docLink = document.createElement('div');\n",
              "          docLink.innerHTML = docLinkHtml;\n",
              "          element.appendChild(docLink);\n",
              "        }\n",
              "      </script>\n",
              "    </div>\n",
              "  </div>\n",
              "  "
            ]
          },
          "metadata": {},
          "execution_count": 20
        }
      ]
    },
    {
      "cell_type": "code",
      "source": [
        "print(\"현재 도로+요일+시간 종류: \",len(tmp_road_day_mean.road_day_hour.unique()))\n",
        "print(\"전체도로 숫자: \", len(train.road_name.unique()))\n",
        "print(\"전체 도로+요일+시간 수: \", len(train.road_name.unique())*7*24)\n",
        "print(\"없는 값의 수: \", len(train.road_name.unique())*7*24 - len(tmp_road_day_mean.road_day_hour.unique()))"
      ],
      "metadata": {
        "colab": {
          "base_uri": "https://localhost:8080/"
        },
        "id": "JGMaEYbuYD0z",
        "outputId": "8011f7b4-7077-4d28-a01b-c78dbe3e3b41"
      },
      "execution_count": 21,
      "outputs": [
        {
          "output_type": "stream",
          "name": "stdout",
          "text": [
            "현재 도로+요일+시간 종류:  13377\n",
            "전체도로 숫자:  80\n",
            "전체 도로+요일+시간 수:  13440\n",
            "없는 값의 수:  63\n"
          ]
        }
      ]
    },
    {
      "cell_type": "code",
      "source": [
        "road_day_hour = []\n",
        "values = []\n",
        "\n",
        "train_road_day_hour = list(tmp_road_day_mean.road_day_hour)\n",
        "train_value = list(tmp_road_day_mean.target)\n",
        "\n",
        "road_names = list(train.road_name.unique())\n",
        "days = [\"월\", \"화\", \"수\", \"목\", \"금\", \"토\", \"일\"]\n",
        "hours = [x for x in range(24)]\n",
        "\n",
        "for road_name in road_names:\n",
        "  for idx, day in enumerate(days):\n",
        "    for hour in hours:\n",
        "      tmp_name = road_name + day + str(hour)\n",
        "      \n",
        "      try:\n",
        "        tmp_index = train_road_day_hour.index(tmp_name)\n",
        "        tmp_value = train_value[tmp_index]\n",
        "      except:\n",
        "        tmp_value = 0\n",
        "      \n",
        "      road_day_hour.append(tmp_name)\n",
        "      values.append(tmp_value)"
      ],
      "metadata": {
        "id": "odM5WlbAZvnq"
      },
      "execution_count": 22,
      "outputs": []
    },
    {
      "cell_type": "code",
      "source": [
        "for road_name in road_names:\n",
        "  for idx, day in enumerate(days):\n",
        "    for hour in hours:\n",
        "      tmp_name = road_name + day + str(hour)\n",
        "      tmp_index = road_day_hour.index(tmp_name)\n",
        "      tmp_value = values[tmp_index]\n",
        "\n",
        "      if tmp_value == 0:\n",
        "        values[tmp_index] = values[tmp_index-1]"
      ],
      "metadata": {
        "id": "fPZHWIp2dw7D"
      },
      "execution_count": 23,
      "outputs": []
    },
    {
      "cell_type": "code",
      "source": [
        "data = {\"road_day_hour\": road_day_hour,\n",
        "        \"target\": values}\n",
        "\n",
        "df = pd.DataFrame(data=data)"
      ],
      "metadata": {
        "id": "dbfe6WnRiCWo"
      },
      "execution_count": 24,
      "outputs": []
    },
    {
      "cell_type": "code",
      "source": [
        "# 3시간 이동평균\n",
        "road_day_hour_list = list(df.road_day_hour)\n",
        "target_list = list(df.target)\n",
        "rolling3 = []\n",
        "\n",
        "road_names = list(train.road_name.unique())\n",
        "days = [\"월\", \"화\", \"수\", \"목\", \"금\", \"토\", \"일\"]\n",
        "hours = [x for x in range(24)]\n",
        "\n",
        "for road_name in road_names:\n",
        "  for idx, day in enumerate(days):\n",
        "    for hour in hours:\n",
        "\n",
        "      if hour > 2:\n",
        "        tmp1 = target_list[road_day_hour_list.index(road_name+day+str(hour-1))]\n",
        "        tmp2 = target_list[road_day_hour_list.index(road_name+day+str(hour-2))]\n",
        "        tmp3 = target_list[road_day_hour_list.index(road_name+day+str(hour-3))]\n",
        "      elif hour == 2:\n",
        "        tmp1 = target_list[road_day_hour_list.index(road_name+day+str(hour-1))]\n",
        "        tmp2 = target_list[road_day_hour_list.index(road_name+day+str(hour-2))]\n",
        "        tmp3 = target_list[road_day_hour_list.index(road_name+days[idx-1]+\"23\")]\n",
        "      elif hour == 1:\n",
        "        tmp1 = target_list[road_day_hour_list.index(road_name+day+str(hour-1))]\n",
        "        tmp2 = target_list[road_day_hour_list.index(road_name+days[idx-1]+\"23\")]\n",
        "        tmp3 = target_list[road_day_hour_list.index(road_name+days[idx-1]+\"22\")]\n",
        "      else:\n",
        "        tmp1 = target_list[road_day_hour_list.index(road_name+days[idx-1]+\"23\")]\n",
        "        tmp2 = target_list[road_day_hour_list.index(road_name+days[idx-1]+\"22\")]\n",
        "        tmp3 = target_list[road_day_hour_list.index(road_name+days[idx-1]+\"21\")]\n",
        "\n",
        "      rolling3.append((tmp1+tmp2+tmp3)/3)\n",
        "\n",
        "df[\"ma3\"] = rolling3"
      ],
      "metadata": {
        "id": "tSYfE7ezljTf"
      },
      "execution_count": 25,
      "outputs": []
    },
    {
      "cell_type": "code",
      "source": [
        "# 4시간 이동평균\n",
        "road_day_hour_list = list(df.road_day_hour)\n",
        "target_list = list(df.target)\n",
        "rolling4 = []\n",
        "\n",
        "for road_name in road_names:\n",
        "  for idx, day in enumerate(days):\n",
        "    for hour in hours:\n",
        "      if hour > 3:\n",
        "        tmp1 = target_list[road_day_hour_list.index(road_name+day+str(hour-1))]\n",
        "        tmp2 = target_list[road_day_hour_list.index(road_name+day+str(hour-2))]\n",
        "        tmp3 = target_list[road_day_hour_list.index(road_name+day+str(hour-3))]\n",
        "        tmp4 = target_list[road_day_hour_list.index(road_name+day+str(hour-4))]\n",
        "      elif hour == 3:\n",
        "        tmp1 = target_list[road_day_hour_list.index(road_name+day+str(hour-1))]\n",
        "        tmp2 = target_list[road_day_hour_list.index(road_name+day+str(hour-2))]\n",
        "        tmp3 = target_list[road_day_hour_list.index(road_name+day+str(hour-3))]\n",
        "        tmp4 = target_list[road_day_hour_list.index(road_name+days[idx-1]+\"23\")]\n",
        "      elif hour == 2:\n",
        "        tmp1 = target_list[road_day_hour_list.index(road_name+day+str(hour-1))]\n",
        "        tmp2 = target_list[road_day_hour_list.index(road_name+day+str(hour-2))]\n",
        "        tmp3 = target_list[road_day_hour_list.index(road_name+days[idx-1]+\"23\")]\n",
        "        tmp4 = target_list[road_day_hour_list.index(road_name+days[idx-1]+\"22\")]\n",
        "      elif hour == 1:\n",
        "        tmp1 = target_list[road_day_hour_list.index(road_name+day+str(hour-1))]\n",
        "        tmp2 = target_list[road_day_hour_list.index(road_name+days[idx-1]+\"23\")]\n",
        "        tmp3 = target_list[road_day_hour_list.index(road_name+days[idx-1]+\"22\")]\n",
        "        tmp4 = target_list[road_day_hour_list.index(road_name+days[idx-1]+\"21\")]\n",
        "      else:\n",
        "        tmp1 = target_list[road_day_hour_list.index(road_name+days[idx-1]+\"23\")]\n",
        "        tmp2 = target_list[road_day_hour_list.index(road_name+days[idx-1]+\"22\")]\n",
        "        tmp3 = target_list[road_day_hour_list.index(road_name+days[idx-1]+\"21\")]\n",
        "        tmp4 = target_list[road_day_hour_list.index(road_name+days[idx-1]+\"20\")]\n",
        "\n",
        "      rolling4.append((tmp1+tmp2+tmp3+tmp4)/4)\n",
        "\n",
        "df[\"ma4\"] = rolling4"
      ],
      "metadata": {
        "id": "Kz6fYxweolrP"
      },
      "execution_count": 26,
      "outputs": []
    },
    {
      "cell_type": "code",
      "source": [
        "#6시간 이동평균\n",
        "road_day_hour_list = list(df.road_day_hour)\n",
        "target_list = list(df.target)\n",
        "rolling6 = []\n",
        "\n",
        "for road_name in road_names:\n",
        "  for idx, day in enumerate(days):\n",
        "    for hour in hours:\n",
        "      if hour > 5:\n",
        "        tmp1 = target_list[road_day_hour_list.index(road_name+day+str(hour-1))]\n",
        "        tmp2 = target_list[road_day_hour_list.index(road_name+day+str(hour-2))]\n",
        "        tmp3 = target_list[road_day_hour_list.index(road_name+day+str(hour-3))]\n",
        "        tmp4 = target_list[road_day_hour_list.index(road_name+day+str(hour-4))]\n",
        "        tmp5 = target_list[road_day_hour_list.index(road_name+day+str(hour-5))]\n",
        "        tmp6 = target_list[road_day_hour_list.index(road_name+day+str(hour-6))]\n",
        "      elif hour == 5:\n",
        "        tmp1 = target_list[road_day_hour_list.index(road_name+day+str(hour-1))]\n",
        "        tmp2 = target_list[road_day_hour_list.index(road_name+day+str(hour-2))]\n",
        "        tmp3 = target_list[road_day_hour_list.index(road_name+day+str(hour-3))]\n",
        "        tmp4 = target_list[road_day_hour_list.index(road_name+day+str(hour-4))]\n",
        "        tmp5 = target_list[road_day_hour_list.index(road_name+day+str(hour-5))]\n",
        "        tmp6 = target_list[road_day_hour_list.index(road_name+days[idx-1]+\"23\")]\n",
        "      elif hour == 4:\n",
        "        tmp1 = target_list[road_day_hour_list.index(road_name+day+str(hour-1))]\n",
        "        tmp2 = target_list[road_day_hour_list.index(road_name+day+str(hour-2))]\n",
        "        tmp3 = target_list[road_day_hour_list.index(road_name+day+str(hour-3))]\n",
        "        tmp4 = target_list[road_day_hour_list.index(road_name+day+str(hour-4))]\n",
        "        tmp5 = target_list[road_day_hour_list.index(road_name+days[idx-1]+\"23\")]\n",
        "        tmp6 = target_list[road_day_hour_list.index(road_name+days[idx-1]+\"22\")]\n",
        "      elif hour == 3:\n",
        "        tmp1 = target_list[road_day_hour_list.index(road_name+day+str(hour-1))]\n",
        "        tmp2 = target_list[road_day_hour_list.index(road_name+day+str(hour-2))]\n",
        "        tmp3 = target_list[road_day_hour_list.index(road_name+day+str(hour-3))]\n",
        "        tmp4 = target_list[road_day_hour_list.index(road_name+days[idx-1]+\"23\")]\n",
        "        tmp5 = target_list[road_day_hour_list.index(road_name+days[idx-1]+\"22\")]\n",
        "        tmp6 = target_list[road_day_hour_list.index(road_name+days[idx-1]+\"21\")]\n",
        "      elif hour == 2:\n",
        "        tmp1 = target_list[road_day_hour_list.index(road_name+day+str(hour-1))]\n",
        "        tmp2 = target_list[road_day_hour_list.index(road_name+day+str(hour-2))]\n",
        "        tmp3 = target_list[road_day_hour_list.index(road_name+days[idx-1]+\"23\")]\n",
        "        tmp4 = target_list[road_day_hour_list.index(road_name+days[idx-1]+\"22\")]\n",
        "        tmp5 = target_list[road_day_hour_list.index(road_name+days[idx-1]+\"21\")]\n",
        "        tmp6 = target_list[road_day_hour_list.index(road_name+days[idx-1]+\"20\")]\n",
        "      elif hour == 1:\n",
        "        tmp1 = target_list[road_day_hour_list.index(road_name+day+str(hour-1))]\n",
        "        tmp2 = target_list[road_day_hour_list.index(road_name+days[idx-1]+\"23\")]\n",
        "        tmp3 = target_list[road_day_hour_list.index(road_name+days[idx-1]+\"22\")]\n",
        "        tmp4 = target_list[road_day_hour_list.index(road_name+days[idx-1]+\"21\")]\n",
        "        tmp5 = target_list[road_day_hour_list.index(road_name+days[idx-1]+\"20\")]\n",
        "        tmp6 = target_list[road_day_hour_list.index(road_name+days[idx-1]+\"19\")]\n",
        "      else:\n",
        "        tmp1 = target_list[road_day_hour_list.index(road_name+days[idx-1]+\"23\")]\n",
        "        tmp2 = target_list[road_day_hour_list.index(road_name+days[idx-1]+\"22\")]\n",
        "        tmp3 = target_list[road_day_hour_list.index(road_name+days[idx-1]+\"21\")]\n",
        "        tmp4 = target_list[road_day_hour_list.index(road_name+days[idx-1]+\"20\")]\n",
        "        tmp5 = target_list[road_day_hour_list.index(road_name+days[idx-1]+\"19\")]\n",
        "        tmp6 = target_list[road_day_hour_list.index(road_name+days[idx-1]+\"18\")]\n",
        "\n",
        "      rolling6.append((tmp1+tmp2+tmp3+tmp4+tmp5+tmp6)/6)\n",
        "\n",
        "df[\"ma6\"] = rolling6"
      ],
      "metadata": {
        "id": "1w827TkYtcke"
      },
      "execution_count": 27,
      "outputs": []
    },
    {
      "cell_type": "code",
      "source": [
        "train_mean_values = []\n",
        "train_rolling3_values = []\n",
        "train_rolling4_values = []\n",
        "train_rolling6_values = []\n",
        "\n",
        "for idx in range(len(train)):\n",
        "  index = road_day_hour_list.index(train.iloc[idx,:][28])\n",
        "  train_rolling3_values.append(rolling3[index])\n",
        "  train_rolling4_values.append(rolling4[index])\n",
        "  train_rolling6_values.append(rolling6[index])\n",
        "\n",
        "train[\"rdh_ma3\"] = train_rolling3_values\n",
        "train[\"rdh_ma4\"] = train_rolling4_values\n",
        "train[\"rdh_ma6\"] = train_rolling6_values\n",
        "\n",
        "test_mean_values = []\n",
        "test_rolling3_values = []\n",
        "test_rolling4_values = []\n",
        "test_rolling6_values = []\n",
        "\n",
        "for idx in range(len(test)):\n",
        "  index = road_day_hour_list.index(test.iloc[idx,:][27])\n",
        "  test_rolling3_values.append(rolling3[index])\n",
        "  test_rolling4_values.append(rolling4[index])\n",
        "  test_rolling6_values.append(rolling6[index])\n",
        "\n",
        "test[\"rdh_ma3\"] = test_rolling3_values\n",
        "test[\"rdh_ma4\"] = test_rolling4_values\n",
        "test[\"rdh_ma6\"] = test_rolling6_values"
      ],
      "metadata": {
        "id": "cYUta0G1vfbs"
      },
      "execution_count": 28,
      "outputs": []
    },
    {
      "cell_type": "code",
      "source": [
        "train.to_csv(DATA_PATH + 'param_train.csv', index=False)\n",
        "test.to_csv(DATA_PATH + 'param_test.csv', index=False)"
      ],
      "metadata": {
        "id": "qZID_cJF3PxL"
      },
      "execution_count": 29,
      "outputs": []
    },
    {
      "cell_type": "markdown",
      "source": [
        "#### 2.2.6 요일 인코딩"
      ],
      "metadata": {
        "id": "USqwzlI35o8B"
      }
    },
    {
      "cell_type": "code",
      "source": [
        "from sklearn import preprocessing\n",
        "\n",
        "str_col = ['day_of_week']\n",
        "for i in str_col:\n",
        "    le = preprocessing.LabelEncoder()\n",
        "    le=le.fit(train[i])\n",
        "    train[i]=le.transform(train[i])\n",
        "    \n",
        "    for label in np.unique(test[i]):\n",
        "        if label not in le.classes_: \n",
        "            le.classes_ = np.append(le.classes_, label)\n",
        "    test[i]=le.transform(test[i])"
      ],
      "metadata": {
        "id": "0P-d7Gpm5R-B"
      },
      "execution_count": 30,
      "outputs": []
    },
    {
      "cell_type": "markdown",
      "source": [
        "#### 2.2.7 road_name 재정의"
      ],
      "metadata": {
        "id": "J4b9cBQC54aj"
      }
    },
    {
      "cell_type": "code",
      "source": [
        "train['road_name']= train['road_name']+train['start_node_name']+train['end_node_name']\n",
        "test['road_name']= test['road_name']+test['start_node_name']+test['end_node_name']"
      ],
      "metadata": {
        "id": "Qr10Jik750jC"
      },
      "execution_count": 31,
      "outputs": []
    },
    {
      "cell_type": "markdown",
      "source": [
        "### 2.2.8 새로운 road_name 평균 값"
      ],
      "metadata": {
        "id": "Zo401ID87snh"
      }
    },
    {
      "cell_type": "code",
      "source": [
        "tmp_train = train[[\"road_name\", \"target\"]]\n",
        "tmp_train_mean = tmp_train.groupby(\"road_name\").mean().reset_index()\n",
        "\n",
        "road_name_list = list(tmp_train_mean[\"road_name\"])\n",
        "road_name_targets = list(tmp_train_mean[\"target\"])"
      ],
      "metadata": {
        "id": "6rvN1nMp8JU4"
      },
      "execution_count": 32,
      "outputs": []
    },
    {
      "cell_type": "code",
      "source": [
        "train_road_name_means = []\n",
        "\n",
        "for idx in range(len(train)):\n",
        "  road_hour_index = road_name_list.index(train.iloc[idx,:][6])\n",
        "  train_road_name_means.append(road_name_targets[road_hour_index])\n",
        "\n",
        "train[\"road_name_mean\"] = train_road_name_means\n",
        "\n",
        "test_road_name_means = []\n",
        "\n",
        "for idx in range(len(test)):\n",
        "  road_hour_index = road_name_list.index(test.iloc[idx,:][6])\n",
        "  test_road_name_means.append(road_name_targets[road_hour_index])\n",
        "\n",
        "test[\"road_name_mean\"] = test_road_name_means"
      ],
      "metadata": {
        "id": "meYdPPfW8KFr"
      },
      "execution_count": 33,
      "outputs": []
    },
    {
      "cell_type": "markdown",
      "source": [
        "#### 2.2.9 Drop useless features"
      ],
      "metadata": {
        "id": "Q-JdFNed6Aoj"
      }
    },
    {
      "cell_type": "code",
      "source": [
        "train.drop([\"id\", \"base_date\", \"road_rating\", \"multi_linked\", \"connect_code\", \"vehicle_restricted\", \n",
        "            \"height_restricted\", \"start_node_name\", \"start_turn_restricted\", \"end_node_name\", \"end_turn_restricted\", \n",
        "            \"road_hours\", \"road_day\", \"road_day_hour\"], axis=1, inplace=True)\n",
        "test.drop([\"id\", \"base_date\", \"road_rating\", \"multi_linked\", \"connect_code\", \"vehicle_restricted\", \n",
        "            \"height_restricted\", \"start_node_name\", \"start_turn_restricted\", \"end_node_name\", \"end_turn_restricted\", \n",
        "            \"road_hours\", \"road_day\", \"road_day_hour\"], axis=1, inplace=True)"
      ],
      "metadata": {
        "id": "LiAeVGWU6E2R"
      },
      "execution_count": 34,
      "outputs": []
    },
    {
      "cell_type": "code",
      "source": [
        "train.head()"
      ],
      "metadata": {
        "colab": {
          "base_uri": "https://localhost:8080/",
          "height": 478
        },
        "id": "HVP-13Mz7Gu6",
        "outputId": "d07880e1-0afb-432c-bfad-08c1255584df"
      },
      "execution_count": 35,
      "outputs": [
        {
          "output_type": "execute_result",
          "data": {
            "text/plain": [
              "   day_of_week  base_hour  lane_count            road_name  \\\n",
              "0            1         17           1  지방도1112호선제3교래교제3교래교   \n",
              "1            1         21           2  일반국도11호선광양사거리KAL사거리   \n",
              "2            4          7           2     일반국도16호선창고천교상창육교   \n",
              "3            0         13           2         태평로남양리조트서현주택   \n",
              "4            6          8           2     일반국도12호선애월샷시애월입구   \n",
              "\n",
              "   maximum_speed_limit  weight_restricted  road_type  start_latitude  \\\n",
              "0                 60.0            32400.0          3       33.427747   \n",
              "1                 60.0                0.0          0       33.500730   \n",
              "2                 80.0                0.0          0       33.279145   \n",
              "3                 50.0                0.0          0       33.246081   \n",
              "4                 80.0                0.0          0       33.462214   \n",
              "\n",
              "   start_longitude  end_latitude  end_longitude  target  month  \\\n",
              "0       126.662612     33.427749     126.662335    52.0      6   \n",
              "1       126.529107     33.504811     126.526240    30.0      7   \n",
              "2       126.368598     33.280072     126.362147    61.0     10   \n",
              "3       126.567204     33.245565     126.566228    20.0      3   \n",
              "4       126.326551     33.462677     126.330152    38.0     10   \n",
              "\n",
              "   road_hours_target  road_day_mean  road_day_hour_mean    rdh_ma3    rdh_ma4  \\\n",
              "0          44.945994      47.421487           44.918919  44.112361  44.051142   \n",
              "1          39.388762      39.904327           39.335878  37.985248  37.765336   \n",
              "2          44.789037      44.996507           46.530935  49.607907  50.253697   \n",
              "3          22.146268      25.107775           21.907925  22.233427  22.492023   \n",
              "4          42.036260      43.464148           41.254252  46.695545  47.661913   \n",
              "\n",
              "     rdh_ma6  road_name_mean  \n",
              "0  44.161910       49.511422  \n",
              "1  37.695086       26.400712  \n",
              "2  50.690067       59.101720  \n",
              "3  23.035610       25.024923  \n",
              "4  48.869734       39.873670  "
            ],
            "text/html": [
              "\n",
              "  <div id=\"df-1af3d5e7-17d0-4490-889b-29e04da00810\">\n",
              "    <div class=\"colab-df-container\">\n",
              "      <div>\n",
              "<style scoped>\n",
              "    .dataframe tbody tr th:only-of-type {\n",
              "        vertical-align: middle;\n",
              "    }\n",
              "\n",
              "    .dataframe tbody tr th {\n",
              "        vertical-align: top;\n",
              "    }\n",
              "\n",
              "    .dataframe thead th {\n",
              "        text-align: right;\n",
              "    }\n",
              "</style>\n",
              "<table border=\"1\" class=\"dataframe\">\n",
              "  <thead>\n",
              "    <tr style=\"text-align: right;\">\n",
              "      <th></th>\n",
              "      <th>day_of_week</th>\n",
              "      <th>base_hour</th>\n",
              "      <th>lane_count</th>\n",
              "      <th>road_name</th>\n",
              "      <th>maximum_speed_limit</th>\n",
              "      <th>weight_restricted</th>\n",
              "      <th>road_type</th>\n",
              "      <th>start_latitude</th>\n",
              "      <th>start_longitude</th>\n",
              "      <th>end_latitude</th>\n",
              "      <th>end_longitude</th>\n",
              "      <th>target</th>\n",
              "      <th>month</th>\n",
              "      <th>road_hours_target</th>\n",
              "      <th>road_day_mean</th>\n",
              "      <th>road_day_hour_mean</th>\n",
              "      <th>rdh_ma3</th>\n",
              "      <th>rdh_ma4</th>\n",
              "      <th>rdh_ma6</th>\n",
              "      <th>road_name_mean</th>\n",
              "    </tr>\n",
              "  </thead>\n",
              "  <tbody>\n",
              "    <tr>\n",
              "      <th>0</th>\n",
              "      <td>1</td>\n",
              "      <td>17</td>\n",
              "      <td>1</td>\n",
              "      <td>지방도1112호선제3교래교제3교래교</td>\n",
              "      <td>60.0</td>\n",
              "      <td>32400.0</td>\n",
              "      <td>3</td>\n",
              "      <td>33.427747</td>\n",
              "      <td>126.662612</td>\n",
              "      <td>33.427749</td>\n",
              "      <td>126.662335</td>\n",
              "      <td>52.0</td>\n",
              "      <td>6</td>\n",
              "      <td>44.945994</td>\n",
              "      <td>47.421487</td>\n",
              "      <td>44.918919</td>\n",
              "      <td>44.112361</td>\n",
              "      <td>44.051142</td>\n",
              "      <td>44.161910</td>\n",
              "      <td>49.511422</td>\n",
              "    </tr>\n",
              "    <tr>\n",
              "      <th>1</th>\n",
              "      <td>1</td>\n",
              "      <td>21</td>\n",
              "      <td>2</td>\n",
              "      <td>일반국도11호선광양사거리KAL사거리</td>\n",
              "      <td>60.0</td>\n",
              "      <td>0.0</td>\n",
              "      <td>0</td>\n",
              "      <td>33.500730</td>\n",
              "      <td>126.529107</td>\n",
              "      <td>33.504811</td>\n",
              "      <td>126.526240</td>\n",
              "      <td>30.0</td>\n",
              "      <td>7</td>\n",
              "      <td>39.388762</td>\n",
              "      <td>39.904327</td>\n",
              "      <td>39.335878</td>\n",
              "      <td>37.985248</td>\n",
              "      <td>37.765336</td>\n",
              "      <td>37.695086</td>\n",
              "      <td>26.400712</td>\n",
              "    </tr>\n",
              "    <tr>\n",
              "      <th>2</th>\n",
              "      <td>4</td>\n",
              "      <td>7</td>\n",
              "      <td>2</td>\n",
              "      <td>일반국도16호선창고천교상창육교</td>\n",
              "      <td>80.0</td>\n",
              "      <td>0.0</td>\n",
              "      <td>0</td>\n",
              "      <td>33.279145</td>\n",
              "      <td>126.368598</td>\n",
              "      <td>33.280072</td>\n",
              "      <td>126.362147</td>\n",
              "      <td>61.0</td>\n",
              "      <td>10</td>\n",
              "      <td>44.789037</td>\n",
              "      <td>44.996507</td>\n",
              "      <td>46.530935</td>\n",
              "      <td>49.607907</td>\n",
              "      <td>50.253697</td>\n",
              "      <td>50.690067</td>\n",
              "      <td>59.101720</td>\n",
              "    </tr>\n",
              "    <tr>\n",
              "      <th>3</th>\n",
              "      <td>0</td>\n",
              "      <td>13</td>\n",
              "      <td>2</td>\n",
              "      <td>태평로남양리조트서현주택</td>\n",
              "      <td>50.0</td>\n",
              "      <td>0.0</td>\n",
              "      <td>0</td>\n",
              "      <td>33.246081</td>\n",
              "      <td>126.567204</td>\n",
              "      <td>33.245565</td>\n",
              "      <td>126.566228</td>\n",
              "      <td>20.0</td>\n",
              "      <td>3</td>\n",
              "      <td>22.146268</td>\n",
              "      <td>25.107775</td>\n",
              "      <td>21.907925</td>\n",
              "      <td>22.233427</td>\n",
              "      <td>22.492023</td>\n",
              "      <td>23.035610</td>\n",
              "      <td>25.024923</td>\n",
              "    </tr>\n",
              "    <tr>\n",
              "      <th>4</th>\n",
              "      <td>6</td>\n",
              "      <td>8</td>\n",
              "      <td>2</td>\n",
              "      <td>일반국도12호선애월샷시애월입구</td>\n",
              "      <td>80.0</td>\n",
              "      <td>0.0</td>\n",
              "      <td>0</td>\n",
              "      <td>33.462214</td>\n",
              "      <td>126.326551</td>\n",
              "      <td>33.462677</td>\n",
              "      <td>126.330152</td>\n",
              "      <td>38.0</td>\n",
              "      <td>10</td>\n",
              "      <td>42.036260</td>\n",
              "      <td>43.464148</td>\n",
              "      <td>41.254252</td>\n",
              "      <td>46.695545</td>\n",
              "      <td>47.661913</td>\n",
              "      <td>48.869734</td>\n",
              "      <td>39.873670</td>\n",
              "    </tr>\n",
              "  </tbody>\n",
              "</table>\n",
              "</div>\n",
              "      <button class=\"colab-df-convert\" onclick=\"convertToInteractive('df-1af3d5e7-17d0-4490-889b-29e04da00810')\"\n",
              "              title=\"Convert this dataframe to an interactive table.\"\n",
              "              style=\"display:none;\">\n",
              "        \n",
              "  <svg xmlns=\"http://www.w3.org/2000/svg\" height=\"24px\"viewBox=\"0 0 24 24\"\n",
              "       width=\"24px\">\n",
              "    <path d=\"M0 0h24v24H0V0z\" fill=\"none\"/>\n",
              "    <path d=\"M18.56 5.44l.94 2.06.94-2.06 2.06-.94-2.06-.94-.94-2.06-.94 2.06-2.06.94zm-11 1L8.5 8.5l.94-2.06 2.06-.94-2.06-.94L8.5 2.5l-.94 2.06-2.06.94zm10 10l.94 2.06.94-2.06 2.06-.94-2.06-.94-.94-2.06-.94 2.06-2.06.94z\"/><path d=\"M17.41 7.96l-1.37-1.37c-.4-.4-.92-.59-1.43-.59-.52 0-1.04.2-1.43.59L10.3 9.45l-7.72 7.72c-.78.78-.78 2.05 0 2.83L4 21.41c.39.39.9.59 1.41.59.51 0 1.02-.2 1.41-.59l7.78-7.78 2.81-2.81c.8-.78.8-2.07 0-2.86zM5.41 20L4 18.59l7.72-7.72 1.47 1.35L5.41 20z\"/>\n",
              "  </svg>\n",
              "      </button>\n",
              "      \n",
              "  <style>\n",
              "    .colab-df-container {\n",
              "      display:flex;\n",
              "      flex-wrap:wrap;\n",
              "      gap: 12px;\n",
              "    }\n",
              "\n",
              "    .colab-df-convert {\n",
              "      background-color: #E8F0FE;\n",
              "      border: none;\n",
              "      border-radius: 50%;\n",
              "      cursor: pointer;\n",
              "      display: none;\n",
              "      fill: #1967D2;\n",
              "      height: 32px;\n",
              "      padding: 0 0 0 0;\n",
              "      width: 32px;\n",
              "    }\n",
              "\n",
              "    .colab-df-convert:hover {\n",
              "      background-color: #E2EBFA;\n",
              "      box-shadow: 0px 1px 2px rgba(60, 64, 67, 0.3), 0px 1px 3px 1px rgba(60, 64, 67, 0.15);\n",
              "      fill: #174EA6;\n",
              "    }\n",
              "\n",
              "    [theme=dark] .colab-df-convert {\n",
              "      background-color: #3B4455;\n",
              "      fill: #D2E3FC;\n",
              "    }\n",
              "\n",
              "    [theme=dark] .colab-df-convert:hover {\n",
              "      background-color: #434B5C;\n",
              "      box-shadow: 0px 1px 3px 1px rgba(0, 0, 0, 0.15);\n",
              "      filter: drop-shadow(0px 1px 2px rgba(0, 0, 0, 0.3));\n",
              "      fill: #FFFFFF;\n",
              "    }\n",
              "  </style>\n",
              "\n",
              "      <script>\n",
              "        const buttonEl =\n",
              "          document.querySelector('#df-1af3d5e7-17d0-4490-889b-29e04da00810 button.colab-df-convert');\n",
              "        buttonEl.style.display =\n",
              "          google.colab.kernel.accessAllowed ? 'block' : 'none';\n",
              "\n",
              "        async function convertToInteractive(key) {\n",
              "          const element = document.querySelector('#df-1af3d5e7-17d0-4490-889b-29e04da00810');\n",
              "          const dataTable =\n",
              "            await google.colab.kernel.invokeFunction('convertToInteractive',\n",
              "                                                     [key], {});\n",
              "          if (!dataTable) return;\n",
              "\n",
              "          const docLinkHtml = 'Like what you see? Visit the ' +\n",
              "            '<a target=\"_blank\" href=https://colab.research.google.com/notebooks/data_table.ipynb>data table notebook</a>'\n",
              "            + ' to learn more about interactive tables.';\n",
              "          element.innerHTML = '';\n",
              "          dataTable['output_type'] = 'display_data';\n",
              "          await google.colab.output.renderOutput(dataTable, element);\n",
              "          const docLink = document.createElement('div');\n",
              "          docLink.innerHTML = docLinkHtml;\n",
              "          element.appendChild(docLink);\n",
              "        }\n",
              "      </script>\n",
              "    </div>\n",
              "  </div>\n",
              "  "
            ]
          },
          "metadata": {},
          "execution_count": 35
        }
      ]
    },
    {
      "cell_type": "code",
      "source": [
        "train.to_csv(DATA_PATH + 'cleaned_train.csv', index=False)\n",
        "test.to_csv(DATA_PATH + 'cleaned_test.csv', index=False)"
      ],
      "metadata": {
        "id": "zY_aiQFN64bg"
      },
      "execution_count": 36,
      "outputs": []
    },
    {
      "cell_type": "markdown",
      "source": [
        "## 3. 모델링"
      ],
      "metadata": {
        "id": "EpsbWl3utaZe"
      }
    },
    {
      "cell_type": "markdown",
      "source": [
        "### 3.1 데이터 호출\n",
        "\n",
        "데이터 양이 많아서 코랩 RAM이 터지는 것을 방지하기 위해 전처리 과정에서 저장했던 파일을 불러왔습니다"
      ],
      "metadata": {
        "id": "yr4gQvWhteWT"
      }
    },
    {
      "cell_type": "code",
      "source": [
        "train = pd.read_csv(DATA_PATH + 'cleaned_train.csv')\n",
        "test = pd.read_csv(DATA_PATH + 'cleaned_test.csv')"
      ],
      "metadata": {
        "id": "I422wMFi1exc"
      },
      "execution_count": 7,
      "outputs": []
    },
    {
      "cell_type": "markdown",
      "source": [
        "### 3.2 모델 함수 생성"
      ],
      "metadata": {
        "id": "cP-UAWJL1fD4"
      }
    },
    {
      "cell_type": "code",
      "source": [
        "def train_predict_model(train, test, type,features):\n",
        "  models = []\n",
        "  min_values = []\n",
        "  max_values = []\n",
        "\n",
        "  for road_name in train.road_name.unique():\n",
        "    sample_train_data = train[train[\"road_name\"]==road_name]\n",
        "\n",
        "    min_values.append(sample_train_data.target.min())\n",
        "    max_values.append(sample_train_data.target.max())\n",
        "\n",
        "    if type == \"lgbm\":\n",
        "      train_model = lgb.LGBMRegressor(seed=42, metric=\"mae\")\n",
        "    elif type == \"cat\":\n",
        "      train_model = cb.CatBoostRegressor(random_state=42, logging_level =\"Silent\")\n",
        "    else:\n",
        "      train_model = HistGradientBoostingRegressor(random_state=42)\n",
        "    \n",
        "    train_model.fit(sample_train_data[features],sample_train_data.target)\n",
        "\n",
        "    models.append(train_model)\n",
        "\n",
        "  print(\"{} training done\".format(type))\n",
        "  \n",
        "  train_road_name = list(train.road_name.unique())\n",
        "\n",
        "  test_features = copy.copy(features)\n",
        "  test_features.append(\"road_name\")\n",
        "  sample_test = test[test_features]\n",
        "\n",
        "\n",
        "  predictions = []\n",
        "  road_min = []\n",
        "  road_max = []\n",
        "\n",
        "  for idx in range(len(sample_test)):\n",
        "    model_index = train_road_name.index(sample_test.iloc[idx,:][len(test_features)-1])\n",
        "    #print(test.iloc[idx,:][len(test_features)-1])\n",
        "    tmp = []\n",
        "    sample = []\n",
        "\n",
        "    for x in sample_test.iloc[idx,:].to_numpy().reshape(1,-1):\n",
        "      tmp.append(x)\n",
        "\n",
        "    tmp = tmp[0]\n",
        "\n",
        "    for i, x in enumerate(tmp):\n",
        "      if i != (len(test_features)-1):\n",
        "        sample.append(x)\n",
        "      #else:\n",
        "      #  print(x)\n",
        "\n",
        "    sample = np.array(sample).reshape(1, -1)\n",
        "\n",
        "    prediction = models[model_index].predict(sample)\n",
        "    predictions.append(prediction)\n",
        "    road_min.append(min_values[model_index])\n",
        "    road_max.append(max_values[model_index])\n",
        "\n",
        "  return predictions, road_min, road_max"
      ],
      "metadata": {
        "id": "oqUPn7nLzAJN"
      },
      "execution_count": 10,
      "outputs": []
    },
    {
      "cell_type": "code",
      "source": [
        "def modeling(train, test, lgbm, cat, hgb, filename, feature):\n",
        "  lgbm_pred, min_values, max_values = train_predict_model(train, test, \"lgbm\",feature)\n",
        "  print(\"LGBM Model Done\")\n",
        "  cat_pred, min_values, max_values = train_predict_model(train, test, \"cat\",feature)\n",
        "  print(\"Cat Model Done\")\n",
        "  if hgb != 0:\n",
        "    hgb_pred, min_values, max_values = train_predict_model(train, test, \"hgb\",feature)\n",
        "  print(\"HGB Model Done\")\n",
        "\n",
        "  sample_submission = pd.read_csv(DATA_PATH + 'sample_submission.csv')\n",
        "\n",
        "  pred = []\n",
        "  \n",
        "  if hgb != 0:\n",
        "    for idx in range(len(lgbm_pred)):\n",
        "      pred.append(lgbm_pred[idx][0]*lgbm + cat_pred[idx][0]*cat + hgb_pred[idx][0]*hgb)\n",
        "  else:\n",
        "    for idx in range(len(lgbm_pred)):\n",
        "      pred.append(lgbm_pred[idx][0]*lgbm + cat_pred[idx][0]*cat)\n",
        "  \n",
        "  #사후처리\n",
        "  n = 0\n",
        "  \n",
        "  for idx in range(len(pred)):\n",
        "    if pred[idx] < min_values[idx]:\n",
        "      n += 1\n",
        "      pred[idx] = min_values[idx]\n",
        "    elif pred[idx] > max_values[idx]:\n",
        "      n += 1\n",
        "      pred[idx] = max_values[idx]\n",
        "\n",
        "  print(pred)\n",
        "  print(len(pred))\n",
        "\n",
        "  sample_submission['target'] = pred\n",
        "\n",
        "  #소수점이 0.3이하일 때 내림, 0.7 이상일 때 올림\n",
        "  sample_submission['decimal'] = sample_submission['target'].astype(str).str.split('.').str[1]\n",
        "  sample_submission['decimal'] = sample_submission['decimal'].astype(str).str[0].astype(int)\n",
        "  sample_submission.loc[sample_submission['decimal'] < 4,'target']= np.floor(sample_submission['target'])\n",
        "  sample_submission.loc[sample_submission['decimal'] > 6,'target']= np.ceil(sample_submission['target'])\n",
        "  sample_submission = sample_submission.drop(columns=['decimal'], axis = 1)\n",
        "\n",
        "  sample_submission.to_csv(DATA_PATH + filename, index = False)"
      ],
      "metadata": {
        "id": "jQz1e9m40QP1"
      },
      "execution_count": 13,
      "outputs": []
    },
    {
      "cell_type": "markdown",
      "source": [
        "### 3.3 여러개 csv 파일 생성"
      ],
      "metadata": {
        "id": "SMe1x8NhWZN0"
      }
    },
    {
      "cell_type": "code",
      "source": [
        "feature1 =['day_of_week', 'base_hour', 'lane_count',\n",
        "          'maximum_speed_limit', 'weight_restricted', 'road_type',\n",
        "          'start_latitude', 'start_longitude', 'end_latitude', 'end_longitude',\n",
        "          'month', 'road_hours_target', 'road_day_mean', 'road_name_mean']\n",
        "modeling(train, test, 0.7, 0.3, 0, \"file1.csv\", feature1)"
      ],
      "metadata": {
        "colab": {
          "base_uri": "https://localhost:8080/"
        },
        "id": "EpbJrsUj4dHs",
        "outputId": "6675056b-f01e-4c2f-dd46-c6d8dc74439a"
      },
      "execution_count": 14,
      "outputs": [
        {
          "output_type": "stream",
          "name": "stdout",
          "text": [
            "lgbm training done\n",
            "LGBM Model Done\n",
            "cat training done\n",
            "Cat Model Done\n",
            "HGB Model Done\n"
          ]
        },
        {
          "output_type": "stream",
          "name": "stderr",
          "text": [
            "IOPub data rate exceeded.\n",
            "The notebook server will temporarily stop sending output\n",
            "to the client in order to avoid crashing it.\n",
            "To change this limit, set the config variable\n",
            "`--NotebookApp.iopub_data_rate_limit`.\n",
            "\n",
            "Current values:\n",
            "NotebookApp.iopub_data_rate_limit=1000000.0 (bytes/sec)\n",
            "NotebookApp.rate_limit_window=3.0 (secs)\n",
            "\n"
          ]
        }
      ]
    },
    {
      "cell_type": "code",
      "source": [
        "feature2 =['day_of_week', 'base_hour', 'lane_count',\n",
        "          'maximum_speed_limit', 'weight_restricted', 'road_type',\n",
        "          'start_latitude', 'start_longitude', 'end_latitude', 'end_longitude',\n",
        "          'month', 'road_hours_target', 'road_day_mean', 'road_name_mean']\n",
        "modeling(train, test, 0.6, 0.2, 0.2, \"file2.csv\", feature2)"
      ],
      "metadata": {
        "colab": {
          "base_uri": "https://localhost:8080/"
        },
        "id": "Df_8TnPjKFaH",
        "outputId": "b272890e-6280-44b8-c1b2-c25a1652a04d"
      },
      "execution_count": 16,
      "outputs": [
        {
          "output_type": "stream",
          "name": "stdout",
          "text": [
            "lgbm training done\n",
            "LGBM Model Done\n",
            "cat training done\n",
            "Cat Model Done\n",
            "hgb training done\n",
            "HGB Model Done\n"
          ]
        },
        {
          "output_type": "stream",
          "name": "stderr",
          "text": [
            "IOPub data rate exceeded.\n",
            "The notebook server will temporarily stop sending output\n",
            "to the client in order to avoid crashing it.\n",
            "To change this limit, set the config variable\n",
            "`--NotebookApp.iopub_data_rate_limit`.\n",
            "\n",
            "Current values:\n",
            "NotebookApp.iopub_data_rate_limit=1000000.0 (bytes/sec)\n",
            "NotebookApp.rate_limit_window=3.0 (secs)\n",
            "\n"
          ]
        }
      ]
    },
    {
      "cell_type": "code",
      "source": [
        "feature3 =['day_of_week', 'base_hour', 'lane_count',\n",
        "          'maximum_speed_limit', 'weight_restricted', 'road_type',\n",
        "          'start_latitude', 'start_longitude', 'end_latitude', 'end_longitude',\n",
        "          'month', 'road_hours_target', 'road_day_mean']\n",
        "modeling(train, test, 0.7, 0.3, 0, \"file3.csv\", feature3)"
      ],
      "metadata": {
        "colab": {
          "base_uri": "https://localhost:8080/"
        },
        "id": "2pUiGkIFFSmE",
        "outputId": "366057d3-3850-45a5-f777-6b8f21c243b3"
      },
      "execution_count": 19,
      "outputs": [
        {
          "output_type": "stream",
          "name": "stdout",
          "text": [
            "lgbm training done\n",
            "LGBM Model Done\n",
            "cat training done\n",
            "Cat Model Done\n",
            "HGB Model Done\n"
          ]
        },
        {
          "output_type": "stream",
          "name": "stderr",
          "text": [
            "IOPub data rate exceeded.\n",
            "The notebook server will temporarily stop sending output\n",
            "to the client in order to avoid crashing it.\n",
            "To change this limit, set the config variable\n",
            "`--NotebookApp.iopub_data_rate_limit`.\n",
            "\n",
            "Current values:\n",
            "NotebookApp.iopub_data_rate_limit=1000000.0 (bytes/sec)\n",
            "NotebookApp.rate_limit_window=3.0 (secs)\n",
            "\n"
          ]
        }
      ]
    },
    {
      "cell_type": "code",
      "source": [
        "feature4 =['day_of_week', 'base_hour', 'lane_count',\n",
        "       'maximum_speed_limit', 'weight_restricted', 'road_type',\n",
        "       'start_latitude', 'start_longitude', 'end_latitude', 'end_longitude',\n",
        "       'month', 'road_hours_target', 'road_day_mean',\n",
        "       'road_day_hour_mean', 'rdh_ma3', 'rdh_ma4', 'rdh_ma6',\n",
        "       'road_name_mean']\n",
        "\n",
        "modeling(train, test, 0.7, 0.3, 0, \"file4.csv\", feature4)"
      ],
      "metadata": {
        "colab": {
          "base_uri": "https://localhost:8080/"
        },
        "id": "QHOjDLVu5UIM",
        "outputId": "d3a4991e-6f18-4712-cf62-b0dab3adac45"
      },
      "execution_count": 21,
      "outputs": [
        {
          "output_type": "stream",
          "name": "stdout",
          "text": [
            "lgbm training done\n",
            "LGBM Model Done\n",
            "cat training done\n",
            "Cat Model Done\n",
            "HGB Model Done\n"
          ]
        },
        {
          "output_type": "stream",
          "name": "stderr",
          "text": [
            "IOPub data rate exceeded.\n",
            "The notebook server will temporarily stop sending output\n",
            "to the client in order to avoid crashing it.\n",
            "To change this limit, set the config variable\n",
            "`--NotebookApp.iopub_data_rate_limit`.\n",
            "\n",
            "Current values:\n",
            "NotebookApp.iopub_data_rate_limit=1000000.0 (bytes/sec)\n",
            "NotebookApp.rate_limit_window=3.0 (secs)\n",
            "\n"
          ]
        }
      ]
    },
    {
      "cell_type": "code",
      "source": [
        "feature5 =['day_of_week', 'base_hour', 'lane_count',\n",
        "       'maximum_speed_limit', 'weight_restricted', 'road_type',\n",
        "       'start_latitude', 'start_longitude', 'end_latitude', 'end_longitude',\n",
        "       'month', 'rdh_ma3', 'rdh_ma4', 'rdh_ma6',]\n",
        "\n",
        "modeling(train, test, 0.7, 0.3, 0, \"file5.csv\", feature5)"
      ],
      "metadata": {
        "colab": {
          "base_uri": "https://localhost:8080/"
        },
        "id": "-53gpCvjCu9I",
        "outputId": "ab4e16b1-062e-41d9-962a-a42609df9846"
      },
      "execution_count": 23,
      "outputs": [
        {
          "output_type": "stream",
          "name": "stdout",
          "text": [
            "lgbm training done\n",
            "LGBM Model Done\n",
            "cat training done\n",
            "Cat Model Done\n",
            "HGB Model Done\n"
          ]
        },
        {
          "output_type": "stream",
          "name": "stderr",
          "text": [
            "IOPub data rate exceeded.\n",
            "The notebook server will temporarily stop sending output\n",
            "to the client in order to avoid crashing it.\n",
            "To change this limit, set the config variable\n",
            "`--NotebookApp.iopub_data_rate_limit`.\n",
            "\n",
            "Current values:\n",
            "NotebookApp.iopub_data_rate_limit=1000000.0 (bytes/sec)\n",
            "NotebookApp.rate_limit_window=3.0 (secs)\n",
            "\n"
          ]
        }
      ]
    },
    {
      "cell_type": "code",
      "source": [
        "feature6 =['day_of_week', 'base_hour', 'lane_count',\n",
        "       'maximum_speed_limit', 'weight_restricted', 'road_type',\n",
        "       'start_latitude', 'start_longitude', 'end_latitude', 'end_longitude',\n",
        "       'month', 'road_hours_target', 'road_day_mean', 'road_name_mean','rdh_ma3']\n",
        "\n",
        "modeling(train, test, 0.7, 0.3, 0, \"file6.csv\", feature6)"
      ],
      "metadata": {
        "colab": {
          "base_uri": "https://localhost:8080/"
        },
        "id": "6wQneC6AJU8t",
        "outputId": "3a5ac98c-b7bd-4312-a16a-b8de542b394b"
      },
      "execution_count": 26,
      "outputs": [
        {
          "output_type": "stream",
          "name": "stdout",
          "text": [
            "lgbm training done\n",
            "LGBM Model Done\n",
            "cat training done\n",
            "Cat Model Done\n",
            "HGB Model Done\n"
          ]
        },
        {
          "output_type": "stream",
          "name": "stderr",
          "text": [
            "IOPub data rate exceeded.\n",
            "The notebook server will temporarily stop sending output\n",
            "to the client in order to avoid crashing it.\n",
            "To change this limit, set the config variable\n",
            "`--NotebookApp.iopub_data_rate_limit`.\n",
            "\n",
            "Current values:\n",
            "NotebookApp.iopub_data_rate_limit=1000000.0 (bytes/sec)\n",
            "NotebookApp.rate_limit_window=3.0 (secs)\n",
            "\n"
          ]
        }
      ]
    },
    {
      "cell_type": "code",
      "source": [
        "feature7 =['day_of_week', 'base_hour', 'lane_count',\n",
        "       'maximum_speed_limit', 'weight_restricted', 'road_type',\n",
        "       'start_latitude', 'start_longitude', 'end_latitude', 'end_longitude','month']\n",
        "\n",
        "modeling(train, test, 0.7, 0.3, 0, \"file7.csv\", feature7)"
      ],
      "metadata": {
        "colab": {
          "base_uri": "https://localhost:8080/"
        },
        "id": "GBfGi5pSQx_0",
        "outputId": "cfa816d5-728a-4332-9f83-c86018bb4ce3"
      },
      "execution_count": 28,
      "outputs": [
        {
          "output_type": "stream",
          "name": "stdout",
          "text": [
            "lgbm training done\n",
            "LGBM Model Done\n",
            "cat training done\n",
            "Cat Model Done\n",
            "HGB Model Done\n"
          ]
        },
        {
          "output_type": "stream",
          "name": "stderr",
          "text": [
            "IOPub data rate exceeded.\n",
            "The notebook server will temporarily stop sending output\n",
            "to the client in order to avoid crashing it.\n",
            "To change this limit, set the config variable\n",
            "`--NotebookApp.iopub_data_rate_limit`.\n",
            "\n",
            "Current values:\n",
            "NotebookApp.iopub_data_rate_limit=1000000.0 (bytes/sec)\n",
            "NotebookApp.rate_limit_window=3.0 (secs)\n",
            "\n"
          ]
        }
      ]
    },
    {
      "cell_type": "markdown",
      "source": [
        "### 3.4 Ensemble"
      ],
      "metadata": {
        "id": "zNyA_SNtWiVN"
      }
    },
    {
      "cell_type": "code",
      "source": [
        "file1 = pd.read_csv(DATA_PATH + 'file1.csv')\n",
        "file2 = pd.read_csv(DATA_PATH + 'file2.csv')\n",
        "file3 = pd.read_csv(DATA_PATH + 'file3.csv')\n",
        "file4 = pd.read_csv(DATA_PATH + 'file4.csv')\n",
        "file5 = pd.read_csv(DATA_PATH + 'file5.csv')\n",
        "file6 = pd.read_csv(DATA_PATH + 'file6.csv')\n",
        "file7 = pd.read_csv(DATA_PATH + 'file7.csv')\n",
        "\n",
        "target1 = file1.target\n",
        "target2 = file2.target\n",
        "target3 = file3.target\n",
        "target4 = file4.target\n",
        "target5 = file5.target\n",
        "target6 = file6.target\n",
        "target7 = file7.target\n",
        "\n",
        "target = list((target1 + target2 + target3 + target4 + target5 + target6 + target7)/7)\n"
      ],
      "metadata": {
        "id": "BUgaCLQT5P6N"
      },
      "execution_count": 30,
      "outputs": []
    },
    {
      "cell_type": "code",
      "source": [
        "sample_submission = pd.read_csv(DATA_PATH + 'sample_submission.csv')\n",
        "\n",
        "pred = []\n",
        "\n",
        "for x in target:\n",
        "  pred.append(x)\n",
        "\n",
        "sample_submission['target'] = pred\n",
        "\n",
        "#소수점이 0.3이하일 때 내림, 0.7 이상일 때 올림\n",
        "sample_submission['decimal'] = sample_submission['target'].astype(str).str.split('.').str[1]\n",
        "sample_submission['decimal'] = sample_submission['decimal'].astype(str).str[0].astype(int)\n",
        "sample_submission.loc[sample_submission['decimal'] < 4,'target']= np.floor(sample_submission['target'])\n",
        "sample_submission.loc[sample_submission['decimal'] > 6,'target']= np.ceil(sample_submission['target'])\n",
        "sample_submission = sample_submission.drop(columns=['decimal'], axis = 1)"
      ],
      "metadata": {
        "id": "f0UcEWDoXCvj"
      },
      "execution_count": 31,
      "outputs": []
    },
    {
      "cell_type": "code",
      "source": [
        "sample_submission.to_csv(DATA_PATH + \"final_version.csv\", index = False)"
      ],
      "metadata": {
        "id": "1d8e9yK9Xg9M"
      },
      "execution_count": 32,
      "outputs": []
    },
    {
      "cell_type": "code",
      "source": [
        "sample_submission"
      ],
      "metadata": {
        "colab": {
          "base_uri": "https://localhost:8080/",
          "height": 424
        },
        "id": "1d9lYd5YXfjc",
        "outputId": "b2a6c011-e6f8-47a4-ffaa-a4a1c9716a84"
      },
      "execution_count": 33,
      "outputs": [
        {
          "output_type": "execute_result",
          "data": {
            "text/plain": [
              "                 id     target\n",
              "0       TEST_000000  26.000000\n",
              "1       TEST_000001  42.575787\n",
              "2       TEST_000002  68.000000\n",
              "3       TEST_000003  38.000000\n",
              "4       TEST_000004  43.517414\n",
              "...             ...        ...\n",
              "291236  TEST_291236  46.632773\n",
              "291237  TEST_291237  51.000000\n",
              "291238  TEST_291238  22.000000\n",
              "291239  TEST_291239  22.000000\n",
              "291240  TEST_291240  48.558294\n",
              "\n",
              "[291241 rows x 2 columns]"
            ],
            "text/html": [
              "\n",
              "  <div id=\"df-f580ccdf-fd2c-4562-8706-078710b1b704\">\n",
              "    <div class=\"colab-df-container\">\n",
              "      <div>\n",
              "<style scoped>\n",
              "    .dataframe tbody tr th:only-of-type {\n",
              "        vertical-align: middle;\n",
              "    }\n",
              "\n",
              "    .dataframe tbody tr th {\n",
              "        vertical-align: top;\n",
              "    }\n",
              "\n",
              "    .dataframe thead th {\n",
              "        text-align: right;\n",
              "    }\n",
              "</style>\n",
              "<table border=\"1\" class=\"dataframe\">\n",
              "  <thead>\n",
              "    <tr style=\"text-align: right;\">\n",
              "      <th></th>\n",
              "      <th>id</th>\n",
              "      <th>target</th>\n",
              "    </tr>\n",
              "  </thead>\n",
              "  <tbody>\n",
              "    <tr>\n",
              "      <th>0</th>\n",
              "      <td>TEST_000000</td>\n",
              "      <td>26.000000</td>\n",
              "    </tr>\n",
              "    <tr>\n",
              "      <th>1</th>\n",
              "      <td>TEST_000001</td>\n",
              "      <td>42.575787</td>\n",
              "    </tr>\n",
              "    <tr>\n",
              "      <th>2</th>\n",
              "      <td>TEST_000002</td>\n",
              "      <td>68.000000</td>\n",
              "    </tr>\n",
              "    <tr>\n",
              "      <th>3</th>\n",
              "      <td>TEST_000003</td>\n",
              "      <td>38.000000</td>\n",
              "    </tr>\n",
              "    <tr>\n",
              "      <th>4</th>\n",
              "      <td>TEST_000004</td>\n",
              "      <td>43.517414</td>\n",
              "    </tr>\n",
              "    <tr>\n",
              "      <th>...</th>\n",
              "      <td>...</td>\n",
              "      <td>...</td>\n",
              "    </tr>\n",
              "    <tr>\n",
              "      <th>291236</th>\n",
              "      <td>TEST_291236</td>\n",
              "      <td>46.632773</td>\n",
              "    </tr>\n",
              "    <tr>\n",
              "      <th>291237</th>\n",
              "      <td>TEST_291237</td>\n",
              "      <td>51.000000</td>\n",
              "    </tr>\n",
              "    <tr>\n",
              "      <th>291238</th>\n",
              "      <td>TEST_291238</td>\n",
              "      <td>22.000000</td>\n",
              "    </tr>\n",
              "    <tr>\n",
              "      <th>291239</th>\n",
              "      <td>TEST_291239</td>\n",
              "      <td>22.000000</td>\n",
              "    </tr>\n",
              "    <tr>\n",
              "      <th>291240</th>\n",
              "      <td>TEST_291240</td>\n",
              "      <td>48.558294</td>\n",
              "    </tr>\n",
              "  </tbody>\n",
              "</table>\n",
              "<p>291241 rows × 2 columns</p>\n",
              "</div>\n",
              "      <button class=\"colab-df-convert\" onclick=\"convertToInteractive('df-f580ccdf-fd2c-4562-8706-078710b1b704')\"\n",
              "              title=\"Convert this dataframe to an interactive table.\"\n",
              "              style=\"display:none;\">\n",
              "        \n",
              "  <svg xmlns=\"http://www.w3.org/2000/svg\" height=\"24px\"viewBox=\"0 0 24 24\"\n",
              "       width=\"24px\">\n",
              "    <path d=\"M0 0h24v24H0V0z\" fill=\"none\"/>\n",
              "    <path d=\"M18.56 5.44l.94 2.06.94-2.06 2.06-.94-2.06-.94-.94-2.06-.94 2.06-2.06.94zm-11 1L8.5 8.5l.94-2.06 2.06-.94-2.06-.94L8.5 2.5l-.94 2.06-2.06.94zm10 10l.94 2.06.94-2.06 2.06-.94-2.06-.94-.94-2.06-.94 2.06-2.06.94z\"/><path d=\"M17.41 7.96l-1.37-1.37c-.4-.4-.92-.59-1.43-.59-.52 0-1.04.2-1.43.59L10.3 9.45l-7.72 7.72c-.78.78-.78 2.05 0 2.83L4 21.41c.39.39.9.59 1.41.59.51 0 1.02-.2 1.41-.59l7.78-7.78 2.81-2.81c.8-.78.8-2.07 0-2.86zM5.41 20L4 18.59l7.72-7.72 1.47 1.35L5.41 20z\"/>\n",
              "  </svg>\n",
              "      </button>\n",
              "      \n",
              "  <style>\n",
              "    .colab-df-container {\n",
              "      display:flex;\n",
              "      flex-wrap:wrap;\n",
              "      gap: 12px;\n",
              "    }\n",
              "\n",
              "    .colab-df-convert {\n",
              "      background-color: #E8F0FE;\n",
              "      border: none;\n",
              "      border-radius: 50%;\n",
              "      cursor: pointer;\n",
              "      display: none;\n",
              "      fill: #1967D2;\n",
              "      height: 32px;\n",
              "      padding: 0 0 0 0;\n",
              "      width: 32px;\n",
              "    }\n",
              "\n",
              "    .colab-df-convert:hover {\n",
              "      background-color: #E2EBFA;\n",
              "      box-shadow: 0px 1px 2px rgba(60, 64, 67, 0.3), 0px 1px 3px 1px rgba(60, 64, 67, 0.15);\n",
              "      fill: #174EA6;\n",
              "    }\n",
              "\n",
              "    [theme=dark] .colab-df-convert {\n",
              "      background-color: #3B4455;\n",
              "      fill: #D2E3FC;\n",
              "    }\n",
              "\n",
              "    [theme=dark] .colab-df-convert:hover {\n",
              "      background-color: #434B5C;\n",
              "      box-shadow: 0px 1px 3px 1px rgba(0, 0, 0, 0.15);\n",
              "      filter: drop-shadow(0px 1px 2px rgba(0, 0, 0, 0.3));\n",
              "      fill: #FFFFFF;\n",
              "    }\n",
              "  </style>\n",
              "\n",
              "      <script>\n",
              "        const buttonEl =\n",
              "          document.querySelector('#df-f580ccdf-fd2c-4562-8706-078710b1b704 button.colab-df-convert');\n",
              "        buttonEl.style.display =\n",
              "          google.colab.kernel.accessAllowed ? 'block' : 'none';\n",
              "\n",
              "        async function convertToInteractive(key) {\n",
              "          const element = document.querySelector('#df-f580ccdf-fd2c-4562-8706-078710b1b704');\n",
              "          const dataTable =\n",
              "            await google.colab.kernel.invokeFunction('convertToInteractive',\n",
              "                                                     [key], {});\n",
              "          if (!dataTable) return;\n",
              "\n",
              "          const docLinkHtml = 'Like what you see? Visit the ' +\n",
              "            '<a target=\"_blank\" href=https://colab.research.google.com/notebooks/data_table.ipynb>data table notebook</a>'\n",
              "            + ' to learn more about interactive tables.';\n",
              "          element.innerHTML = '';\n",
              "          dataTable['output_type'] = 'display_data';\n",
              "          await google.colab.output.renderOutput(dataTable, element);\n",
              "          const docLink = document.createElement('div');\n",
              "          docLink.innerHTML = docLinkHtml;\n",
              "          element.appendChild(docLink);\n",
              "        }\n",
              "      </script>\n",
              "    </div>\n",
              "  </div>\n",
              "  "
            ]
          },
          "metadata": {},
          "execution_count": 33
        }
      ]
    },
    {
      "cell_type": "code",
      "source": [],
      "metadata": {
        "id": "CKVqJCHFXuJ5"
      },
      "execution_count": null,
      "outputs": []
    }
  ]
}